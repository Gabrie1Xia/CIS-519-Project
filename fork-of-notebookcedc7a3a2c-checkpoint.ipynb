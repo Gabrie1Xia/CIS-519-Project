{
 "cells": [
  {
   "cell_type": "code",
   "execution_count": 1,
   "metadata": {
    "execution": {
     "iopub.execute_input": "2021-11-19T09:09:54.861887Z",
     "iopub.status.busy": "2021-11-19T09:09:54.861670Z",
     "iopub.status.idle": "2021-11-19T09:09:54.868871Z",
     "shell.execute_reply": "2021-11-19T09:09:54.868082Z",
     "shell.execute_reply.started": "2021-11-19T09:09:54.861865Z"
    },
    "id": "mTRqwlB3EPKI"
   },
   "outputs": [],
   "source": [
    "import pandas as pd\n",
    "import numpy as np\n",
    "import matplotlib.pyplot as plt\n",
    "plt.style.use('seaborn')\n",
    "\n",
    "import tensorflow as tf\n",
    "import cv2\n",
    "import os\n",
    "import glob\n",
    "import keras\n",
    "from tensorflow.keras.preprocessing import image\n",
    "import numpy as np\n",
    "import matplotlib.pyplot as plt\n",
    "from tensorflow.keras.models import Sequential,Model\n",
    "from tensorflow.keras.layers import Dense,Activation,GlobalAveragePooling2D,Dropout,Flatten,Conv2D,MaxPooling2D\n",
    "from keras.layers import BatchNormalization\n",
    "from tensorflow.keras.preprocessing.image import ImageDataGenerator\n",
    "import tensorflow\n",
    "tf.random.set_seed(40)"
   ]
  },
  {
   "cell_type": "code",
   "execution_count": null,
   "metadata": {
    "id": "jjkGPQ3sET2e",
    "outputId": "c734fa77-f395-441a-e163-b19424b253db"
   },
   "outputs": [],
   "source": []
  },
  {
   "cell_type": "code",
   "execution_count": 29,
   "metadata": {
    "execution": {
     "iopub.execute_input": "2021-11-19T09:09:55.450814Z",
     "iopub.status.busy": "2021-11-19T09:09:55.450545Z",
     "iopub.status.idle": "2021-11-19T09:09:55.455161Z",
     "shell.execute_reply": "2021-11-19T09:09:55.454035Z",
     "shell.execute_reply.started": "2021-11-19T09:09:55.450772Z"
    },
    "id": "wTF4EzGHET5e"
   },
   "outputs": [],
   "source": [
    "# train_path = \"../input/covid-data/train/train\"\n",
    "train_path = 'ISBI2016_ISIC_Part3_Training_Input'\n",
    "test_path = \"../input/covid-data/test/test-2\"\n",
    "SIZE =224"
   ]
  },
  {
   "cell_type": "code",
   "execution_count": 30,
   "metadata": {
    "execution": {
     "iopub.execute_input": "2021-11-19T09:09:55.823164Z",
     "iopub.status.busy": "2021-11-19T09:09:55.822910Z",
     "iopub.status.idle": "2021-11-19T09:10:30.328667Z",
     "shell.execute_reply": "2021-11-19T09:10:30.327659Z",
     "shell.execute_reply.started": "2021-11-19T09:09:55.823137Z"
    },
    "id": "jzV0Qn3_ET7V"
   },
   "outputs": [],
   "source": [
    "train_images = []\n",
    "train_ids =[]\n",
    "\n",
    "for i in glob.glob( f\"{train_path}/*\"):\n",
    "    ids = i.split(\".\")[-2].split('/')[-1]\n",
    "    for j in glob.glob(os.path.join(i)):\n",
    "        img = cv2.imread(j,cv2.IMREAD_COLOR)\n",
    "        img = cv2.resize(img,(SIZE,SIZE))\n",
    "        img = cv2.cvtColor(img,cv2.COLOR_RGB2BGR)\n",
    "        train_images.append(img)\n",
    "        train_ids.append(ids)\n",
    "        \n",
    "train_images = np.array(train_images)\n",
    "train_ids = np.array(train_ids)"
   ]
  },
  {
   "cell_type": "code",
   "execution_count": 32,
   "metadata": {
    "execution": {
     "iopub.execute_input": "2021-11-19T09:10:37.686761Z",
     "iopub.status.busy": "2021-11-19T09:10:37.686534Z",
     "iopub.status.idle": "2021-11-19T09:10:37.692010Z",
     "shell.execute_reply": "2021-11-19T09:10:37.691382Z",
     "shell.execute_reply.started": "2021-11-19T09:10:37.686736Z"
    }
   },
   "outputs": [
    {
     "data": {
      "text/plain": [
       "(900,)"
      ]
     },
     "execution_count": 32,
     "metadata": {},
     "output_type": "execute_result"
    }
   ],
   "source": [
    "train_ids.shape"
   ]
  },
  {
   "cell_type": "code",
   "execution_count": null,
   "metadata": {},
   "outputs": [],
   "source": [
    "df_train = pd.read_csv('../input/isic2016/ISBI2016_ISIC_Part3_Training_GroundTruth.csv')"
   ]
  },
  {
   "cell_type": "code",
   "execution_count": 41,
   "metadata": {
    "execution": {
     "iopub.execute_input": "2021-11-19T09:13:02.483999Z",
     "iopub.status.busy": "2021-11-19T09:13:02.483711Z",
     "iopub.status.idle": "2021-11-19T09:13:02.490491Z",
     "shell.execute_reply": "2021-11-19T09:13:02.489554Z",
     "shell.execute_reply.started": "2021-11-19T09:13:02.483966Z"
    }
   },
   "outputs": [],
   "source": [
    "adddi = 'ISIC_0000000'\n",
    "adddl     =  'benign'"
   ]
  },
  {
   "cell_type": "code",
   "execution_count": 42,
   "metadata": {
    "execution": {
     "iopub.execute_input": "2021-11-19T09:13:21.585949Z",
     "iopub.status.busy": "2021-11-19T09:13:21.585675Z",
     "iopub.status.idle": "2021-11-19T09:13:21.591016Z",
     "shell.execute_reply": "2021-11-19T09:13:21.589778Z",
     "shell.execute_reply.started": "2021-11-19T09:13:21.585920Z"
    }
   },
   "outputs": [],
   "source": [
    "df_train.columns = ['id','label']"
   ]
  },
  {
   "cell_type": "code",
   "execution_count": 43,
   "metadata": {
    "execution": {
     "iopub.execute_input": "2021-11-19T09:13:40.590363Z",
     "iopub.status.busy": "2021-11-19T09:13:40.589724Z",
     "iopub.status.idle": "2021-11-19T09:13:40.596992Z",
     "shell.execute_reply": "2021-11-19T09:13:40.596530Z",
     "shell.execute_reply.started": "2021-11-19T09:13:40.590339Z"
    }
   },
   "outputs": [],
   "source": [
    "df_train.loc[899,'id'] = adddi\n",
    "df_train.loc[899,'label'] = adddl"
   ]
  },
  {
   "cell_type": "code",
   "execution_count": 44,
   "metadata": {
    "execution": {
     "iopub.execute_input": "2021-11-19T09:13:48.830243Z",
     "iopub.status.busy": "2021-11-19T09:13:48.830017Z",
     "iopub.status.idle": "2021-11-19T09:13:48.836435Z",
     "shell.execute_reply": "2021-11-19T09:13:48.835371Z",
     "shell.execute_reply.started": "2021-11-19T09:13:48.830220Z"
    }
   },
   "outputs": [],
   "source": [
    "df_train = df_train[df_train['id'].isin(list(train_ids))]"
   ]
  },
  {
   "cell_type": "code",
   "execution_count": 46,
   "metadata": {
    "execution": {
     "iopub.execute_input": "2021-11-19T09:14:36.666194Z",
     "iopub.status.busy": "2021-11-19T09:14:36.665272Z",
     "iopub.status.idle": "2021-11-19T09:14:36.670437Z",
     "shell.execute_reply": "2021-11-19T09:14:36.669441Z",
     "shell.execute_reply.started": "2021-11-19T09:14:36.666129Z"
    }
   },
   "outputs": [],
   "source": [
    "from sklearn.preprocessing import LabelEncoder"
   ]
  },
  {
   "cell_type": "code",
   "execution_count": 47,
   "metadata": {
    "execution": {
     "iopub.execute_input": "2021-11-19T09:15:04.898775Z",
     "iopub.status.busy": "2021-11-19T09:15:04.898549Z",
     "iopub.status.idle": "2021-11-19T09:15:04.903646Z",
     "shell.execute_reply": "2021-11-19T09:15:04.902923Z",
     "shell.execute_reply.started": "2021-11-19T09:15:04.898752Z"
    }
   },
   "outputs": [],
   "source": [
    "le = LabelEncoder()\n",
    "df_train['label'] = le.fit_transform(df_train['label'])"
   ]
  },
  {
   "cell_type": "code",
   "execution_count": 50,
   "metadata": {
    "execution": {
     "iopub.execute_input": "2021-11-19T09:17:04.073270Z",
     "iopub.status.busy": "2021-11-19T09:17:04.072996Z",
     "iopub.status.idle": "2021-11-19T09:17:04.590619Z",
     "shell.execute_reply": "2021-11-19T09:17:04.589895Z",
     "shell.execute_reply.started": "2021-11-19T09:17:04.073242Z"
    }
   },
   "outputs": [],
   "source": [
    "train_labels = []\n",
    "for i in range(0,len(df_train)):\n",
    "    train_labels.append(int(df_train[df_train['id']==train_ids[i]].label))"
   ]
  },
  {
   "cell_type": "code",
   "execution_count": null,
   "metadata": {},
   "outputs": [],
   "source": []
  },
  {
   "cell_type": "code",
   "execution_count": null,
   "metadata": {
    "execution": {
     "iopub.status.busy": "2021-11-19T09:09:26.909100Z",
     "iopub.status.idle": "2021-11-19T09:09:26.909874Z",
     "shell.execute_reply": "2021-11-19T09:09:26.909703Z",
     "shell.execute_reply.started": "2021-11-19T09:09:26.909683Z"
    },
    "id": "eUIzGElPET8-"
   },
   "outputs": [],
   "source": [
    "# test_images = []\n",
    "# test_labels =[]\n",
    "# for i in glob.glob( f\"{test_path}/*\"):\n",
    "#     label = i.split(\"\\\\\")[-1]\n",
    "#     for j  in glob.glob(os.path.join(i,\"*.png\")):\n",
    "#         img = cv2.imread(j,cv2.IMREAD_COLOR)\n",
    "#         img = cv2.resize(img,(SIZE,SIZE))\n",
    "#         img = cv2.cvtColor(img,cv2.COLOR_RGB2BGR)\n",
    "#         test_images.append(img)\n",
    "#         test_labels.append(label)\n",
    "# test_images = np.array(test_images)\n",
    "# test_labels = np.array(test_labels)"
   ]
  },
  {
   "cell_type": "code",
   "execution_count": 52,
   "metadata": {
    "execution": {
     "iopub.execute_input": "2021-11-19T09:17:11.809008Z",
     "iopub.status.busy": "2021-11-19T09:17:11.808804Z",
     "iopub.status.idle": "2021-11-19T09:17:17.166421Z",
     "shell.execute_reply": "2021-11-19T09:17:17.165332Z",
     "shell.execute_reply.started": "2021-11-19T09:17:11.808986Z"
    },
    "id": "ohFWOkv3ET_J",
    "outputId": "d1337643-90c3-4ca1-a238-bee546ad6a69"
   },
   "outputs": [
    {
     "name": "stderr",
     "output_type": "stream",
     "text": [
      "\n",
      "User settings:\n",
      "\n",
      "   KMP_AFFINITY=granularity=fine,verbose,compact,1,0\n",
      "   KMP_BLOCKTIME=0\n",
      "   KMP_DUPLICATE_LIB_OK=True\n",
      "   KMP_INIT_AT_FORK=FALSE\n",
      "   KMP_SETTINGS=1\n",
      "   KMP_WARNINGS=0\n",
      "\n",
      "Effective settings:\n",
      "\n",
      "   KMP_ABORT_DELAY=0\n",
      "   KMP_ADAPTIVE_LOCK_PROPS='1,1024'\n",
      "   KMP_ALIGN_ALLOC=64\n",
      "   KMP_ALL_THREADPRIVATE=128\n",
      "   KMP_ATOMIC_MODE=2\n",
      "   KMP_BLOCKTIME=0\n",
      "   KMP_CPUINFO_FILE: value is not defined\n",
      "   KMP_DETERMINISTIC_REDUCTION=false\n",
      "   KMP_DEVICE_THREAD_LIMIT=2147483647\n",
      "   KMP_DISP_NUM_BUFFERS=7\n",
      "   KMP_DUPLICATE_LIB_OK=true\n",
      "   KMP_ENABLE_TASK_THROTTLING=true\n",
      "   KMP_FORCE_REDUCTION: value is not defined\n",
      "   KMP_FOREIGN_THREADS_THREADPRIVATE=true\n",
      "   KMP_FORKJOIN_BARRIER='2,2'\n",
      "   KMP_FORKJOIN_BARRIER_PATTERN='hyper,hyper'\n",
      "   KMP_GTID_MODE=3\n",
      "   KMP_HANDLE_SIGNALS=false\n",
      "   KMP_HOT_TEAMS_MAX_LEVEL=1\n",
      "   KMP_HOT_TEAMS_MODE=0\n",
      "   KMP_INIT_AT_FORK=true\n",
      "   KMP_LIBRARY=throughput\n",
      "   KMP_LOCK_KIND=queuing\n",
      "   KMP_MALLOC_POOL_INCR=1M\n",
      "   KMP_NUM_LOCKS_IN_BLOCK=1\n",
      "   KMP_PLAIN_BARRIER='2,2'\n",
      "   KMP_PLAIN_BARRIER_PATTERN='hyper,hyper'\n",
      "   KMP_REDUCTION_BARRIER='1,1'\n",
      "   KMP_REDUCTION_BARRIER_PATTERN='hyper,hyper'\n",
      "   KMP_SCHEDULE='static,balanced;guided,iterative'\n",
      "   KMP_SETTINGS=true\n",
      "   KMP_SPIN_BACKOFF_PARAMS='4096,100'\n",
      "   KMP_STACKOFFSET=64\n",
      "   KMP_STACKPAD=0\n",
      "   KMP_STACKSIZE=8M\n",
      "   KMP_STORAGE_MAP=false\n",
      "   KMP_TASKING=2\n",
      "   KMP_TASKLOOP_MIN_TASKS=0\n",
      "   KMP_TASK_STEALING_CONSTRAINT=1\n",
      "   KMP_TEAMS_THREAD_LIMIT=4\n",
      "   KMP_TOPOLOGY_METHOD=all\n",
      "   KMP_USE_YIELD=1\n",
      "   KMP_VERSION=false\n",
      "   KMP_WARNINGS=false\n",
      "   OMP_AFFINITY_FORMAT='OMP: pid %P tid %i thread %n bound to OS proc set {%A}'\n",
      "   OMP_ALLOCATOR=omp_default_mem_alloc\n",
      "   OMP_CANCELLATION=false\n",
      "   OMP_DEFAULT_DEVICE=0\n",
      "   OMP_DISPLAY_AFFINITY=false\n",
      "   OMP_DISPLAY_ENV=false\n",
      "   OMP_DYNAMIC=false\n",
      "   OMP_MAX_ACTIVE_LEVELS=1\n",
      "   OMP_MAX_TASK_PRIORITY=0\n",
      "   OMP_NESTED: deprecated; max-active-levels-var=1\n",
      "   OMP_NUM_THREADS: value is not defined\n",
      "   OMP_PLACES: value is not defined\n",
      "   OMP_PROC_BIND='intel'\n",
      "   OMP_SCHEDULE='static'\n",
      "   OMP_STACKSIZE=8M\n",
      "   OMP_TARGET_OFFLOAD=DEFAULT\n",
      "   OMP_THREAD_LIMIT=2147483647\n",
      "   OMP_WAIT_POLICY=PASSIVE\n",
      "   KMP_AFFINITY='verbose,warnings,respect,granularity=fine,compact,1,0'\n",
      "\n",
      "2021-11-19 09:17:11.862683: I tensorflow/core/common_runtime/process_util.cc:146] Creating new thread pool with default inter op setting: 2. Tune using inter_op_parallelism_threads for best performance.\n"
     ]
    },
    {
     "name": "stdout",
     "output_type": "stream",
     "text": [
      "Downloading data from https://storage.googleapis.com/tensorflow/keras-applications/resnet/resnet50_weights_tf_dim_ordering_tf_kernels_notop.h5\n",
      "94773248/94765736 [==============================] - 3s 0us/step\n",
      "94781440/94765736 [==============================] - 3s 0us/step\n"
     ]
    }
   ],
   "source": [
    "from tensorflow.keras.applications.resnet50 import ResNet50\n",
    "conv_base = ResNet50(weights='imagenet',include_top =False,\n",
    "                  input_shape=(SIZE,SIZE,3))"
   ]
  },
  {
   "cell_type": "code",
   "execution_count": 53,
   "metadata": {
    "execution": {
     "iopub.execute_input": "2021-11-19T09:17:18.484915Z",
     "iopub.status.busy": "2021-11-19T09:17:18.484706Z",
     "iopub.status.idle": "2021-11-19T09:17:18.558890Z",
     "shell.execute_reply": "2021-11-19T09:17:18.558010Z",
     "shell.execute_reply.started": "2021-11-19T09:17:18.484893Z"
    },
    "id": "lkBR4FpUEUBH",
    "outputId": "4d411f9e-6f99-43de-a7ad-a3cc03593bc8"
   },
   "outputs": [
    {
     "name": "stdout",
     "output_type": "stream",
     "text": [
      "Model: \"resnet50\"\n",
      "__________________________________________________________________________________________________\n",
      "Layer (type)                    Output Shape         Param #     Connected to                     \n",
      "==================================================================================================\n",
      "input_1 (InputLayer)            [(None, 224, 224, 3) 0                                            \n",
      "__________________________________________________________________________________________________\n",
      "conv1_pad (ZeroPadding2D)       (None, 230, 230, 3)  0           input_1[0][0]                    \n",
      "__________________________________________________________________________________________________\n",
      "conv1_conv (Conv2D)             (None, 112, 112, 64) 9472        conv1_pad[0][0]                  \n",
      "__________________________________________________________________________________________________\n",
      "conv1_bn (BatchNormalization)   (None, 112, 112, 64) 256         conv1_conv[0][0]                 \n",
      "__________________________________________________________________________________________________\n",
      "conv1_relu (Activation)         (None, 112, 112, 64) 0           conv1_bn[0][0]                   \n",
      "__________________________________________________________________________________________________\n",
      "pool1_pad (ZeroPadding2D)       (None, 114, 114, 64) 0           conv1_relu[0][0]                 \n",
      "__________________________________________________________________________________________________\n",
      "pool1_pool (MaxPooling2D)       (None, 56, 56, 64)   0           pool1_pad[0][0]                  \n",
      "__________________________________________________________________________________________________\n",
      "conv2_block1_1_conv (Conv2D)    (None, 56, 56, 64)   4160        pool1_pool[0][0]                 \n",
      "__________________________________________________________________________________________________\n",
      "conv2_block1_1_bn (BatchNormali (None, 56, 56, 64)   256         conv2_block1_1_conv[0][0]        \n",
      "__________________________________________________________________________________________________\n",
      "conv2_block1_1_relu (Activation (None, 56, 56, 64)   0           conv2_block1_1_bn[0][0]          \n",
      "__________________________________________________________________________________________________\n",
      "conv2_block1_2_conv (Conv2D)    (None, 56, 56, 64)   36928       conv2_block1_1_relu[0][0]        \n",
      "__________________________________________________________________________________________________\n",
      "conv2_block1_2_bn (BatchNormali (None, 56, 56, 64)   256         conv2_block1_2_conv[0][0]        \n",
      "__________________________________________________________________________________________________\n",
      "conv2_block1_2_relu (Activation (None, 56, 56, 64)   0           conv2_block1_2_bn[0][0]          \n",
      "__________________________________________________________________________________________________\n",
      "conv2_block1_0_conv (Conv2D)    (None, 56, 56, 256)  16640       pool1_pool[0][0]                 \n",
      "__________________________________________________________________________________________________\n",
      "conv2_block1_3_conv (Conv2D)    (None, 56, 56, 256)  16640       conv2_block1_2_relu[0][0]        \n",
      "__________________________________________________________________________________________________\n",
      "conv2_block1_0_bn (BatchNormali (None, 56, 56, 256)  1024        conv2_block1_0_conv[0][0]        \n",
      "__________________________________________________________________________________________________\n",
      "conv2_block1_3_bn (BatchNormali (None, 56, 56, 256)  1024        conv2_block1_3_conv[0][0]        \n",
      "__________________________________________________________________________________________________\n",
      "conv2_block1_add (Add)          (None, 56, 56, 256)  0           conv2_block1_0_bn[0][0]          \n",
      "                                                                 conv2_block1_3_bn[0][0]          \n",
      "__________________________________________________________________________________________________\n",
      "conv2_block1_out (Activation)   (None, 56, 56, 256)  0           conv2_block1_add[0][0]           \n",
      "__________________________________________________________________________________________________\n",
      "conv2_block2_1_conv (Conv2D)    (None, 56, 56, 64)   16448       conv2_block1_out[0][0]           \n",
      "__________________________________________________________________________________________________\n",
      "conv2_block2_1_bn (BatchNormali (None, 56, 56, 64)   256         conv2_block2_1_conv[0][0]        \n",
      "__________________________________________________________________________________________________\n",
      "conv2_block2_1_relu (Activation (None, 56, 56, 64)   0           conv2_block2_1_bn[0][0]          \n",
      "__________________________________________________________________________________________________\n",
      "conv2_block2_2_conv (Conv2D)    (None, 56, 56, 64)   36928       conv2_block2_1_relu[0][0]        \n",
      "__________________________________________________________________________________________________\n",
      "conv2_block2_2_bn (BatchNormali (None, 56, 56, 64)   256         conv2_block2_2_conv[0][0]        \n",
      "__________________________________________________________________________________________________\n",
      "conv2_block2_2_relu (Activation (None, 56, 56, 64)   0           conv2_block2_2_bn[0][0]          \n",
      "__________________________________________________________________________________________________\n",
      "conv2_block2_3_conv (Conv2D)    (None, 56, 56, 256)  16640       conv2_block2_2_relu[0][0]        \n",
      "__________________________________________________________________________________________________\n",
      "conv2_block2_3_bn (BatchNormali (None, 56, 56, 256)  1024        conv2_block2_3_conv[0][0]        \n",
      "__________________________________________________________________________________________________\n",
      "conv2_block2_add (Add)          (None, 56, 56, 256)  0           conv2_block1_out[0][0]           \n",
      "                                                                 conv2_block2_3_bn[0][0]          \n",
      "__________________________________________________________________________________________________\n",
      "conv2_block2_out (Activation)   (None, 56, 56, 256)  0           conv2_block2_add[0][0]           \n",
      "__________________________________________________________________________________________________\n",
      "conv2_block3_1_conv (Conv2D)    (None, 56, 56, 64)   16448       conv2_block2_out[0][0]           \n",
      "__________________________________________________________________________________________________\n",
      "conv2_block3_1_bn (BatchNormali (None, 56, 56, 64)   256         conv2_block3_1_conv[0][0]        \n",
      "__________________________________________________________________________________________________\n",
      "conv2_block3_1_relu (Activation (None, 56, 56, 64)   0           conv2_block3_1_bn[0][0]          \n",
      "__________________________________________________________________________________________________\n",
      "conv2_block3_2_conv (Conv2D)    (None, 56, 56, 64)   36928       conv2_block3_1_relu[0][0]        \n",
      "__________________________________________________________________________________________________\n",
      "conv2_block3_2_bn (BatchNormali (None, 56, 56, 64)   256         conv2_block3_2_conv[0][0]        \n",
      "__________________________________________________________________________________________________\n",
      "conv2_block3_2_relu (Activation (None, 56, 56, 64)   0           conv2_block3_2_bn[0][0]          \n",
      "__________________________________________________________________________________________________\n",
      "conv2_block3_3_conv (Conv2D)    (None, 56, 56, 256)  16640       conv2_block3_2_relu[0][0]        \n",
      "__________________________________________________________________________________________________\n",
      "conv2_block3_3_bn (BatchNormali (None, 56, 56, 256)  1024        conv2_block3_3_conv[0][0]        \n",
      "__________________________________________________________________________________________________\n",
      "conv2_block3_add (Add)          (None, 56, 56, 256)  0           conv2_block2_out[0][0]           \n",
      "                                                                 conv2_block3_3_bn[0][0]          \n",
      "__________________________________________________________________________________________________\n",
      "conv2_block3_out (Activation)   (None, 56, 56, 256)  0           conv2_block3_add[0][0]           \n",
      "__________________________________________________________________________________________________\n",
      "conv3_block1_1_conv (Conv2D)    (None, 28, 28, 128)  32896       conv2_block3_out[0][0]           \n",
      "__________________________________________________________________________________________________\n",
      "conv3_block1_1_bn (BatchNormali (None, 28, 28, 128)  512         conv3_block1_1_conv[0][0]        \n",
      "__________________________________________________________________________________________________\n",
      "conv3_block1_1_relu (Activation (None, 28, 28, 128)  0           conv3_block1_1_bn[0][0]          \n",
      "__________________________________________________________________________________________________\n",
      "conv3_block1_2_conv (Conv2D)    (None, 28, 28, 128)  147584      conv3_block1_1_relu[0][0]        \n",
      "__________________________________________________________________________________________________\n",
      "conv3_block1_2_bn (BatchNormali (None, 28, 28, 128)  512         conv3_block1_2_conv[0][0]        \n",
      "__________________________________________________________________________________________________\n",
      "conv3_block1_2_relu (Activation (None, 28, 28, 128)  0           conv3_block1_2_bn[0][0]          \n",
      "__________________________________________________________________________________________________\n",
      "conv3_block1_0_conv (Conv2D)    (None, 28, 28, 512)  131584      conv2_block3_out[0][0]           \n",
      "__________________________________________________________________________________________________\n",
      "conv3_block1_3_conv (Conv2D)    (None, 28, 28, 512)  66048       conv3_block1_2_relu[0][0]        \n",
      "__________________________________________________________________________________________________\n",
      "conv3_block1_0_bn (BatchNormali (None, 28, 28, 512)  2048        conv3_block1_0_conv[0][0]        \n",
      "__________________________________________________________________________________________________\n",
      "conv3_block1_3_bn (BatchNormali (None, 28, 28, 512)  2048        conv3_block1_3_conv[0][0]        \n",
      "__________________________________________________________________________________________________\n",
      "conv3_block1_add (Add)          (None, 28, 28, 512)  0           conv3_block1_0_bn[0][0]          \n",
      "                                                                 conv3_block1_3_bn[0][0]          \n",
      "__________________________________________________________________________________________________\n",
      "conv3_block1_out (Activation)   (None, 28, 28, 512)  0           conv3_block1_add[0][0]           \n",
      "__________________________________________________________________________________________________\n",
      "conv3_block2_1_conv (Conv2D)    (None, 28, 28, 128)  65664       conv3_block1_out[0][0]           \n",
      "__________________________________________________________________________________________________\n",
      "conv3_block2_1_bn (BatchNormali (None, 28, 28, 128)  512         conv3_block2_1_conv[0][0]        \n",
      "__________________________________________________________________________________________________\n",
      "conv3_block2_1_relu (Activation (None, 28, 28, 128)  0           conv3_block2_1_bn[0][0]          \n",
      "__________________________________________________________________________________________________\n",
      "conv3_block2_2_conv (Conv2D)    (None, 28, 28, 128)  147584      conv3_block2_1_relu[0][0]        \n",
      "__________________________________________________________________________________________________\n",
      "conv3_block2_2_bn (BatchNormali (None, 28, 28, 128)  512         conv3_block2_2_conv[0][0]        \n",
      "__________________________________________________________________________________________________\n",
      "conv3_block2_2_relu (Activation (None, 28, 28, 128)  0           conv3_block2_2_bn[0][0]          \n",
      "__________________________________________________________________________________________________\n",
      "conv3_block2_3_conv (Conv2D)    (None, 28, 28, 512)  66048       conv3_block2_2_relu[0][0]        \n",
      "__________________________________________________________________________________________________\n",
      "conv3_block2_3_bn (BatchNormali (None, 28, 28, 512)  2048        conv3_block2_3_conv[0][0]        \n",
      "__________________________________________________________________________________________________\n",
      "conv3_block2_add (Add)          (None, 28, 28, 512)  0           conv3_block1_out[0][0]           \n",
      "                                                                 conv3_block2_3_bn[0][0]          \n",
      "__________________________________________________________________________________________________\n",
      "conv3_block2_out (Activation)   (None, 28, 28, 512)  0           conv3_block2_add[0][0]           \n",
      "__________________________________________________________________________________________________\n",
      "conv3_block3_1_conv (Conv2D)    (None, 28, 28, 128)  65664       conv3_block2_out[0][0]           \n",
      "__________________________________________________________________________________________________\n",
      "conv3_block3_1_bn (BatchNormali (None, 28, 28, 128)  512         conv3_block3_1_conv[0][0]        \n",
      "__________________________________________________________________________________________________\n",
      "conv3_block3_1_relu (Activation (None, 28, 28, 128)  0           conv3_block3_1_bn[0][0]          \n",
      "__________________________________________________________________________________________________\n",
      "conv3_block3_2_conv (Conv2D)    (None, 28, 28, 128)  147584      conv3_block3_1_relu[0][0]        \n",
      "__________________________________________________________________________________________________\n",
      "conv3_block3_2_bn (BatchNormali (None, 28, 28, 128)  512         conv3_block3_2_conv[0][0]        \n",
      "__________________________________________________________________________________________________\n",
      "conv3_block3_2_relu (Activation (None, 28, 28, 128)  0           conv3_block3_2_bn[0][0]          \n",
      "__________________________________________________________________________________________________\n",
      "conv3_block3_3_conv (Conv2D)    (None, 28, 28, 512)  66048       conv3_block3_2_relu[0][0]        \n",
      "__________________________________________________________________________________________________\n",
      "conv3_block3_3_bn (BatchNormali (None, 28, 28, 512)  2048        conv3_block3_3_conv[0][0]        \n",
      "__________________________________________________________________________________________________\n",
      "conv3_block3_add (Add)          (None, 28, 28, 512)  0           conv3_block2_out[0][0]           \n",
      "                                                                 conv3_block3_3_bn[0][0]          \n",
      "__________________________________________________________________________________________________\n",
      "conv3_block3_out (Activation)   (None, 28, 28, 512)  0           conv3_block3_add[0][0]           \n",
      "__________________________________________________________________________________________________\n",
      "conv3_block4_1_conv (Conv2D)    (None, 28, 28, 128)  65664       conv3_block3_out[0][0]           \n",
      "__________________________________________________________________________________________________\n",
      "conv3_block4_1_bn (BatchNormali (None, 28, 28, 128)  512         conv3_block4_1_conv[0][0]        \n",
      "__________________________________________________________________________________________________\n",
      "conv3_block4_1_relu (Activation (None, 28, 28, 128)  0           conv3_block4_1_bn[0][0]          \n",
      "__________________________________________________________________________________________________\n",
      "conv3_block4_2_conv (Conv2D)    (None, 28, 28, 128)  147584      conv3_block4_1_relu[0][0]        \n",
      "__________________________________________________________________________________________________\n",
      "conv3_block4_2_bn (BatchNormali (None, 28, 28, 128)  512         conv3_block4_2_conv[0][0]        \n",
      "__________________________________________________________________________________________________\n",
      "conv3_block4_2_relu (Activation (None, 28, 28, 128)  0           conv3_block4_2_bn[0][0]          \n",
      "__________________________________________________________________________________________________\n",
      "conv3_block4_3_conv (Conv2D)    (None, 28, 28, 512)  66048       conv3_block4_2_relu[0][0]        \n",
      "__________________________________________________________________________________________________\n",
      "conv3_block4_3_bn (BatchNormali (None, 28, 28, 512)  2048        conv3_block4_3_conv[0][0]        \n",
      "__________________________________________________________________________________________________\n",
      "conv3_block4_add (Add)          (None, 28, 28, 512)  0           conv3_block3_out[0][0]           \n",
      "                                                                 conv3_block4_3_bn[0][0]          \n",
      "__________________________________________________________________________________________________\n",
      "conv3_block4_out (Activation)   (None, 28, 28, 512)  0           conv3_block4_add[0][0]           \n",
      "__________________________________________________________________________________________________\n",
      "conv4_block1_1_conv (Conv2D)    (None, 14, 14, 256)  131328      conv3_block4_out[0][0]           \n",
      "__________________________________________________________________________________________________\n",
      "conv4_block1_1_bn (BatchNormali (None, 14, 14, 256)  1024        conv4_block1_1_conv[0][0]        \n",
      "__________________________________________________________________________________________________\n",
      "conv4_block1_1_relu (Activation (None, 14, 14, 256)  0           conv4_block1_1_bn[0][0]          \n",
      "__________________________________________________________________________________________________\n",
      "conv4_block1_2_conv (Conv2D)    (None, 14, 14, 256)  590080      conv4_block1_1_relu[0][0]        \n",
      "__________________________________________________________________________________________________\n",
      "conv4_block1_2_bn (BatchNormali (None, 14, 14, 256)  1024        conv4_block1_2_conv[0][0]        \n",
      "__________________________________________________________________________________________________\n",
      "conv4_block1_2_relu (Activation (None, 14, 14, 256)  0           conv4_block1_2_bn[0][0]          \n",
      "__________________________________________________________________________________________________\n",
      "conv4_block1_0_conv (Conv2D)    (None, 14, 14, 1024) 525312      conv3_block4_out[0][0]           \n",
      "__________________________________________________________________________________________________\n",
      "conv4_block1_3_conv (Conv2D)    (None, 14, 14, 1024) 263168      conv4_block1_2_relu[0][0]        \n",
      "__________________________________________________________________________________________________\n",
      "conv4_block1_0_bn (BatchNormali (None, 14, 14, 1024) 4096        conv4_block1_0_conv[0][0]        \n",
      "__________________________________________________________________________________________________\n",
      "conv4_block1_3_bn (BatchNormali (None, 14, 14, 1024) 4096        conv4_block1_3_conv[0][0]        \n",
      "__________________________________________________________________________________________________\n",
      "conv4_block1_add (Add)          (None, 14, 14, 1024) 0           conv4_block1_0_bn[0][0]          \n",
      "                                                                 conv4_block1_3_bn[0][0]          \n",
      "__________________________________________________________________________________________________\n",
      "conv4_block1_out (Activation)   (None, 14, 14, 1024) 0           conv4_block1_add[0][0]           \n",
      "__________________________________________________________________________________________________\n",
      "conv4_block2_1_conv (Conv2D)    (None, 14, 14, 256)  262400      conv4_block1_out[0][0]           \n",
      "__________________________________________________________________________________________________\n",
      "conv4_block2_1_bn (BatchNormali (None, 14, 14, 256)  1024        conv4_block2_1_conv[0][0]        \n",
      "__________________________________________________________________________________________________\n",
      "conv4_block2_1_relu (Activation (None, 14, 14, 256)  0           conv4_block2_1_bn[0][0]          \n",
      "__________________________________________________________________________________________________\n",
      "conv4_block2_2_conv (Conv2D)    (None, 14, 14, 256)  590080      conv4_block2_1_relu[0][0]        \n",
      "__________________________________________________________________________________________________\n",
      "conv4_block2_2_bn (BatchNormali (None, 14, 14, 256)  1024        conv4_block2_2_conv[0][0]        \n",
      "__________________________________________________________________________________________________\n",
      "conv4_block2_2_relu (Activation (None, 14, 14, 256)  0           conv4_block2_2_bn[0][0]          \n",
      "__________________________________________________________________________________________________\n",
      "conv4_block2_3_conv (Conv2D)    (None, 14, 14, 1024) 263168      conv4_block2_2_relu[0][0]        \n",
      "__________________________________________________________________________________________________\n",
      "conv4_block2_3_bn (BatchNormali (None, 14, 14, 1024) 4096        conv4_block2_3_conv[0][0]        \n",
      "__________________________________________________________________________________________________\n",
      "conv4_block2_add (Add)          (None, 14, 14, 1024) 0           conv4_block1_out[0][0]           \n",
      "                                                                 conv4_block2_3_bn[0][0]          \n",
      "__________________________________________________________________________________________________\n",
      "conv4_block2_out (Activation)   (None, 14, 14, 1024) 0           conv4_block2_add[0][0]           \n",
      "__________________________________________________________________________________________________\n",
      "conv4_block3_1_conv (Conv2D)    (None, 14, 14, 256)  262400      conv4_block2_out[0][0]           \n",
      "__________________________________________________________________________________________________\n",
      "conv4_block3_1_bn (BatchNormali (None, 14, 14, 256)  1024        conv4_block3_1_conv[0][0]        \n",
      "__________________________________________________________________________________________________\n",
      "conv4_block3_1_relu (Activation (None, 14, 14, 256)  0           conv4_block3_1_bn[0][0]          \n",
      "__________________________________________________________________________________________________\n",
      "conv4_block3_2_conv (Conv2D)    (None, 14, 14, 256)  590080      conv4_block3_1_relu[0][0]        \n",
      "__________________________________________________________________________________________________\n",
      "conv4_block3_2_bn (BatchNormali (None, 14, 14, 256)  1024        conv4_block3_2_conv[0][0]        \n",
      "__________________________________________________________________________________________________\n",
      "conv4_block3_2_relu (Activation (None, 14, 14, 256)  0           conv4_block3_2_bn[0][0]          \n",
      "__________________________________________________________________________________________________\n",
      "conv4_block3_3_conv (Conv2D)    (None, 14, 14, 1024) 263168      conv4_block3_2_relu[0][0]        \n",
      "__________________________________________________________________________________________________\n",
      "conv4_block3_3_bn (BatchNormali (None, 14, 14, 1024) 4096        conv4_block3_3_conv[0][0]        \n",
      "__________________________________________________________________________________________________\n",
      "conv4_block3_add (Add)          (None, 14, 14, 1024) 0           conv4_block2_out[0][0]           \n",
      "                                                                 conv4_block3_3_bn[0][0]          \n",
      "__________________________________________________________________________________________________\n",
      "conv4_block3_out (Activation)   (None, 14, 14, 1024) 0           conv4_block3_add[0][0]           \n",
      "__________________________________________________________________________________________________\n",
      "conv4_block4_1_conv (Conv2D)    (None, 14, 14, 256)  262400      conv4_block3_out[0][0]           \n",
      "__________________________________________________________________________________________________\n",
      "conv4_block4_1_bn (BatchNormali (None, 14, 14, 256)  1024        conv4_block4_1_conv[0][0]        \n",
      "__________________________________________________________________________________________________\n",
      "conv4_block4_1_relu (Activation (None, 14, 14, 256)  0           conv4_block4_1_bn[0][0]          \n",
      "__________________________________________________________________________________________________\n",
      "conv4_block4_2_conv (Conv2D)    (None, 14, 14, 256)  590080      conv4_block4_1_relu[0][0]        \n",
      "__________________________________________________________________________________________________\n",
      "conv4_block4_2_bn (BatchNormali (None, 14, 14, 256)  1024        conv4_block4_2_conv[0][0]        \n",
      "__________________________________________________________________________________________________\n",
      "conv4_block4_2_relu (Activation (None, 14, 14, 256)  0           conv4_block4_2_bn[0][0]          \n",
      "__________________________________________________________________________________________________\n",
      "conv4_block4_3_conv (Conv2D)    (None, 14, 14, 1024) 263168      conv4_block4_2_relu[0][0]        \n",
      "__________________________________________________________________________________________________\n",
      "conv4_block4_3_bn (BatchNormali (None, 14, 14, 1024) 4096        conv4_block4_3_conv[0][0]        \n",
      "__________________________________________________________________________________________________\n",
      "conv4_block4_add (Add)          (None, 14, 14, 1024) 0           conv4_block3_out[0][0]           \n",
      "                                                                 conv4_block4_3_bn[0][0]          \n",
      "__________________________________________________________________________________________________\n",
      "conv4_block4_out (Activation)   (None, 14, 14, 1024) 0           conv4_block4_add[0][0]           \n",
      "__________________________________________________________________________________________________\n",
      "conv4_block5_1_conv (Conv2D)    (None, 14, 14, 256)  262400      conv4_block4_out[0][0]           \n",
      "__________________________________________________________________________________________________\n",
      "conv4_block5_1_bn (BatchNormali (None, 14, 14, 256)  1024        conv4_block5_1_conv[0][0]        \n",
      "__________________________________________________________________________________________________\n",
      "conv4_block5_1_relu (Activation (None, 14, 14, 256)  0           conv4_block5_1_bn[0][0]          \n",
      "__________________________________________________________________________________________________\n",
      "conv4_block5_2_conv (Conv2D)    (None, 14, 14, 256)  590080      conv4_block5_1_relu[0][0]        \n",
      "__________________________________________________________________________________________________\n",
      "conv4_block5_2_bn (BatchNormali (None, 14, 14, 256)  1024        conv4_block5_2_conv[0][0]        \n",
      "__________________________________________________________________________________________________\n",
      "conv4_block5_2_relu (Activation (None, 14, 14, 256)  0           conv4_block5_2_bn[0][0]          \n",
      "__________________________________________________________________________________________________\n",
      "conv4_block5_3_conv (Conv2D)    (None, 14, 14, 1024) 263168      conv4_block5_2_relu[0][0]        \n",
      "__________________________________________________________________________________________________\n",
      "conv4_block5_3_bn (BatchNormali (None, 14, 14, 1024) 4096        conv4_block5_3_conv[0][0]        \n",
      "__________________________________________________________________________________________________\n",
      "conv4_block5_add (Add)          (None, 14, 14, 1024) 0           conv4_block4_out[0][0]           \n",
      "                                                                 conv4_block5_3_bn[0][0]          \n",
      "__________________________________________________________________________________________________\n",
      "conv4_block5_out (Activation)   (None, 14, 14, 1024) 0           conv4_block5_add[0][0]           \n",
      "__________________________________________________________________________________________________\n",
      "conv4_block6_1_conv (Conv2D)    (None, 14, 14, 256)  262400      conv4_block5_out[0][0]           \n",
      "__________________________________________________________________________________________________\n",
      "conv4_block6_1_bn (BatchNormali (None, 14, 14, 256)  1024        conv4_block6_1_conv[0][0]        \n",
      "__________________________________________________________________________________________________\n",
      "conv4_block6_1_relu (Activation (None, 14, 14, 256)  0           conv4_block6_1_bn[0][0]          \n",
      "__________________________________________________________________________________________________\n",
      "conv4_block6_2_conv (Conv2D)    (None, 14, 14, 256)  590080      conv4_block6_1_relu[0][0]        \n",
      "__________________________________________________________________________________________________\n",
      "conv4_block6_2_bn (BatchNormali (None, 14, 14, 256)  1024        conv4_block6_2_conv[0][0]        \n",
      "__________________________________________________________________________________________________\n",
      "conv4_block6_2_relu (Activation (None, 14, 14, 256)  0           conv4_block6_2_bn[0][0]          \n",
      "__________________________________________________________________________________________________\n",
      "conv4_block6_3_conv (Conv2D)    (None, 14, 14, 1024) 263168      conv4_block6_2_relu[0][0]        \n",
      "__________________________________________________________________________________________________\n",
      "conv4_block6_3_bn (BatchNormali (None, 14, 14, 1024) 4096        conv4_block6_3_conv[0][0]        \n",
      "__________________________________________________________________________________________________\n",
      "conv4_block6_add (Add)          (None, 14, 14, 1024) 0           conv4_block5_out[0][0]           \n",
      "                                                                 conv4_block6_3_bn[0][0]          \n",
      "__________________________________________________________________________________________________\n",
      "conv4_block6_out (Activation)   (None, 14, 14, 1024) 0           conv4_block6_add[0][0]           \n",
      "__________________________________________________________________________________________________\n",
      "conv5_block1_1_conv (Conv2D)    (None, 7, 7, 512)    524800      conv4_block6_out[0][0]           \n",
      "__________________________________________________________________________________________________\n",
      "conv5_block1_1_bn (BatchNormali (None, 7, 7, 512)    2048        conv5_block1_1_conv[0][0]        \n",
      "__________________________________________________________________________________________________\n",
      "conv5_block1_1_relu (Activation (None, 7, 7, 512)    0           conv5_block1_1_bn[0][0]          \n",
      "__________________________________________________________________________________________________\n",
      "conv5_block1_2_conv (Conv2D)    (None, 7, 7, 512)    2359808     conv5_block1_1_relu[0][0]        \n",
      "__________________________________________________________________________________________________\n",
      "conv5_block1_2_bn (BatchNormali (None, 7, 7, 512)    2048        conv5_block1_2_conv[0][0]        \n",
      "__________________________________________________________________________________________________\n",
      "conv5_block1_2_relu (Activation (None, 7, 7, 512)    0           conv5_block1_2_bn[0][0]          \n",
      "__________________________________________________________________________________________________\n",
      "conv5_block1_0_conv (Conv2D)    (None, 7, 7, 2048)   2099200     conv4_block6_out[0][0]           \n",
      "__________________________________________________________________________________________________\n",
      "conv5_block1_3_conv (Conv2D)    (None, 7, 7, 2048)   1050624     conv5_block1_2_relu[0][0]        \n",
      "__________________________________________________________________________________________________\n",
      "conv5_block1_0_bn (BatchNormali (None, 7, 7, 2048)   8192        conv5_block1_0_conv[0][0]        \n",
      "__________________________________________________________________________________________________\n",
      "conv5_block1_3_bn (BatchNormali (None, 7, 7, 2048)   8192        conv5_block1_3_conv[0][0]        \n",
      "__________________________________________________________________________________________________\n",
      "conv5_block1_add (Add)          (None, 7, 7, 2048)   0           conv5_block1_0_bn[0][0]          \n",
      "                                                                 conv5_block1_3_bn[0][0]          \n",
      "__________________________________________________________________________________________________\n",
      "conv5_block1_out (Activation)   (None, 7, 7, 2048)   0           conv5_block1_add[0][0]           \n",
      "__________________________________________________________________________________________________\n",
      "conv5_block2_1_conv (Conv2D)    (None, 7, 7, 512)    1049088     conv5_block1_out[0][0]           \n",
      "__________________________________________________________________________________________________\n",
      "conv5_block2_1_bn (BatchNormali (None, 7, 7, 512)    2048        conv5_block2_1_conv[0][0]        \n",
      "__________________________________________________________________________________________________\n",
      "conv5_block2_1_relu (Activation (None, 7, 7, 512)    0           conv5_block2_1_bn[0][0]          \n",
      "__________________________________________________________________________________________________\n",
      "conv5_block2_2_conv (Conv2D)    (None, 7, 7, 512)    2359808     conv5_block2_1_relu[0][0]        \n",
      "__________________________________________________________________________________________________\n",
      "conv5_block2_2_bn (BatchNormali (None, 7, 7, 512)    2048        conv5_block2_2_conv[0][0]        \n",
      "__________________________________________________________________________________________________\n",
      "conv5_block2_2_relu (Activation (None, 7, 7, 512)    0           conv5_block2_2_bn[0][0]          \n",
      "__________________________________________________________________________________________________\n",
      "conv5_block2_3_conv (Conv2D)    (None, 7, 7, 2048)   1050624     conv5_block2_2_relu[0][0]        \n",
      "__________________________________________________________________________________________________\n",
      "conv5_block2_3_bn (BatchNormali (None, 7, 7, 2048)   8192        conv5_block2_3_conv[0][0]        \n",
      "__________________________________________________________________________________________________\n",
      "conv5_block2_add (Add)          (None, 7, 7, 2048)   0           conv5_block1_out[0][0]           \n",
      "                                                                 conv5_block2_3_bn[0][0]          \n",
      "__________________________________________________________________________________________________\n",
      "conv5_block2_out (Activation)   (None, 7, 7, 2048)   0           conv5_block2_add[0][0]           \n",
      "__________________________________________________________________________________________________\n",
      "conv5_block3_1_conv (Conv2D)    (None, 7, 7, 512)    1049088     conv5_block2_out[0][0]           \n",
      "__________________________________________________________________________________________________\n",
      "conv5_block3_1_bn (BatchNormali (None, 7, 7, 512)    2048        conv5_block3_1_conv[0][0]        \n",
      "__________________________________________________________________________________________________\n",
      "conv5_block3_1_relu (Activation (None, 7, 7, 512)    0           conv5_block3_1_bn[0][0]          \n",
      "__________________________________________________________________________________________________\n",
      "conv5_block3_2_conv (Conv2D)    (None, 7, 7, 512)    2359808     conv5_block3_1_relu[0][0]        \n",
      "__________________________________________________________________________________________________\n",
      "conv5_block3_2_bn (BatchNormali (None, 7, 7, 512)    2048        conv5_block3_2_conv[0][0]        \n",
      "__________________________________________________________________________________________________\n",
      "conv5_block3_2_relu (Activation (None, 7, 7, 512)    0           conv5_block3_2_bn[0][0]          \n",
      "__________________________________________________________________________________________________\n",
      "conv5_block3_3_conv (Conv2D)    (None, 7, 7, 2048)   1050624     conv5_block3_2_relu[0][0]        \n",
      "__________________________________________________________________________________________________\n",
      "conv5_block3_3_bn (BatchNormali (None, 7, 7, 2048)   8192        conv5_block3_3_conv[0][0]        \n",
      "__________________________________________________________________________________________________\n",
      "conv5_block3_add (Add)          (None, 7, 7, 2048)   0           conv5_block2_out[0][0]           \n",
      "                                                                 conv5_block3_3_bn[0][0]          \n",
      "__________________________________________________________________________________________________\n",
      "conv5_block3_out (Activation)   (None, 7, 7, 2048)   0           conv5_block3_add[0][0]           \n",
      "==================================================================================================\n",
      "Total params: 23,587,712\n",
      "Trainable params: 0\n",
      "Non-trainable params: 23,587,712\n",
      "__________________________________________________________________________________________________\n"
     ]
    }
   ],
   "source": [
    "for layer in conv_base.layers:\n",
    "  layer.trainable =False\n",
    "conv_base.summary()"
   ]
  },
  {
   "cell_type": "code",
   "execution_count": 54,
   "metadata": {
    "execution": {
     "iopub.execute_input": "2021-11-19T09:17:41.637336Z",
     "iopub.status.busy": "2021-11-19T09:17:41.637049Z",
     "iopub.status.idle": "2021-11-19T09:17:41.651947Z",
     "shell.execute_reply": "2021-11-19T09:17:41.651351Z",
     "shell.execute_reply.started": "2021-11-19T09:17:41.637306Z"
    },
    "id": "tMI2WADrEUDB"
   },
   "outputs": [],
   "source": [
    "feature_map_model = Model(inputs=conv_base.input, outputs=conv_base.get_layer('conv5_block3_out').output)"
   ]
  },
  {
   "cell_type": "code",
   "execution_count": 57,
   "metadata": {
    "execution": {
     "iopub.execute_input": "2021-11-19T09:18:04.841669Z",
     "iopub.status.busy": "2021-11-19T09:18:04.841450Z",
     "iopub.status.idle": "2021-11-19T09:18:10.746487Z",
     "shell.execute_reply": "2021-11-19T09:18:10.745582Z",
     "shell.execute_reply.started": "2021-11-19T09:18:04.841646Z"
    },
    "id": "gGWgCKM0EUKr",
    "outputId": "7a427888-5574-45c5-ef4e-5be940b4e7d9"
   },
   "outputs": [
    {
     "name": "stdout",
     "output_type": "stream",
     "text": [
      "79.999405\n",
      "0.33797273\n",
      "1.3718405\n"
     ]
    }
   ],
   "source": [
    "train_features = feature_map_model.predict(train_images[:100])\n",
    "# test_features = feature_map_model.predict(test_images)\n",
    "print(np.max(train_features))\n",
    "print(train_features.mean())\n",
    "# print(np.max(test_features))\n",
    "# print(test_features.mean())\n",
    "print(train_features.std())\n",
    "# print(test_features.std())"
   ]
  },
  {
   "cell_type": "code",
   "execution_count": 61,
   "metadata": {
    "execution": {
     "iopub.execute_input": "2021-11-19T09:18:57.193597Z",
     "iopub.status.busy": "2021-11-19T09:18:57.192126Z",
     "iopub.status.idle": "2021-11-19T09:18:57.197624Z",
     "shell.execute_reply": "2021-11-19T09:18:57.197116Z",
     "shell.execute_reply.started": "2021-11-19T09:18:57.193570Z"
    }
   },
   "outputs": [
    {
     "data": {
      "text/plain": [
       "(100, 7, 7, 2048)"
      ]
     },
     "execution_count": 61,
     "metadata": {},
     "output_type": "execute_result"
    }
   ],
   "source": [
    "train_features.shape"
   ]
  },
  {
   "cell_type": "code",
   "execution_count": 60,
   "metadata": {
    "execution": {
     "iopub.execute_input": "2021-11-19T09:18:52.823145Z",
     "iopub.status.busy": "2021-11-19T09:18:52.822906Z",
     "iopub.status.idle": "2021-11-19T09:18:52.853001Z",
     "shell.execute_reply": "2021-11-19T09:18:52.852112Z",
     "shell.execute_reply.started": "2021-11-19T09:18:52.823122Z"
    }
   },
   "outputs": [],
   "source": [
    "np.save('train_feats.npy',train_features)"
   ]
  },
  {
   "cell_type": "code",
   "execution_count": 62,
   "metadata": {
    "execution": {
     "iopub.execute_input": "2021-11-19T09:19:00.904037Z",
     "iopub.status.busy": "2021-11-19T09:19:00.903622Z",
     "iopub.status.idle": "2021-11-19T09:19:00.906970Z",
     "shell.execute_reply": "2021-11-19T09:19:00.906496Z",
     "shell.execute_reply.started": "2021-11-19T09:19:00.904008Z"
    }
   },
   "outputs": [],
   "source": [
    "# np.save('test_feats.npy',test_features)"
   ]
  },
  {
   "cell_type": "code",
   "execution_count": 63,
   "metadata": {
    "execution": {
     "iopub.execute_input": "2021-11-19T09:19:03.067483Z",
     "iopub.status.busy": "2021-11-19T09:19:03.067124Z",
     "iopub.status.idle": "2021-11-19T09:19:03.070804Z",
     "shell.execute_reply": "2021-11-19T09:19:03.070376Z",
     "shell.execute_reply.started": "2021-11-19T09:19:03.067447Z"
    },
    "id": "C6OLhtD7HrIF"
   },
   "outputs": [],
   "source": [
    "# print(train_features.resize(3201,100352))\n",
    "# print(test_features.resize(1147,100352))\n",
    "# # from sklearn.preprocessing import RobustScaler\n",
    "# # scaler = RobustScaler()\n",
    "# # # # transform data\n",
    "# # train_features_scaled = scaler.fit_transform(train_features)\n",
    "# # test_features_scaled = scaler.transform(test_features)\n",
    "\n",
    "# from sklearn.preprocessing import StandardScaler\n",
    "# scaler = StandardScaler()\n",
    "# # # # transform data\n",
    "# train_features_scaled = scaler.fit_transform(train_features)\n",
    "# test_features_scaled = scaler.transform(test_features)\n",
    "\n",
    "\n",
    "\n",
    "# print(train_features_scaled.mean())\n",
    "# print(test_features_scaled.mean())\n",
    "\n",
    "\n"
   ]
  },
  {
   "cell_type": "code",
   "execution_count": 64,
   "metadata": {
    "execution": {
     "iopub.execute_input": "2021-11-19T09:19:03.266525Z",
     "iopub.status.busy": "2021-11-19T09:19:03.266207Z",
     "iopub.status.idle": "2021-11-19T09:19:03.272185Z",
     "shell.execute_reply": "2021-11-19T09:19:03.270789Z",
     "shell.execute_reply.started": "2021-11-19T09:19:03.266504Z"
    },
    "id": "ED-n7816EULV"
   },
   "outputs": [],
   "source": [
    "# from sklearn import preprocessing\n",
    "# le = preprocessing.LabelEncoder()\n",
    "# le.fit(test_labels)\n",
    "test_labels_encoded = (test_labels)\n",
    "# le.fit(train_labels)\n",
    "train_labels_encoded = (train_labels)"
   ]
  },
  {
   "cell_type": "code",
   "execution_count": 65,
   "metadata": {
    "execution": {
     "iopub.execute_input": "2021-11-19T09:19:03.440701Z",
     "iopub.status.busy": "2021-11-19T09:19:03.439849Z",
     "iopub.status.idle": "2021-11-19T09:19:03.443955Z",
     "shell.execute_reply": "2021-11-19T09:19:03.443403Z",
     "shell.execute_reply.started": "2021-11-19T09:19:03.440648Z"
    },
    "id": "W2TIA04mEUMG"
   },
   "outputs": [],
   "source": [
    "\n",
    "\n",
    "# x= tf.keras.layers.Flatten(input_shape=(7,7,2048))\n",
    "\n",
    "\n",
    "# x1 =tf.keras.layers.Dense(2048)(x)\n",
    "# x1_ =tf.keras.layers.Activation('relu')(x1)\n",
    "# x1__ =tf.keras.layers.Dropout(0.3)(x1_)\n",
    "\n",
    "# x2 =tf.keras.layers.Dense(1024)(x1__)\n",
    "# x2_ =tf.keras.layers.Activation('relu')(x2)\n",
    "# x2__ =tf.keras.layers.Dropout(0.3)(x2_)\n",
    "\n",
    "# x3= tf.keras.layers.Add([x2__,x1])\n",
    "\n",
    "\n",
    "# x4 =tf.keras.layers.Dense(256)(x3)\n",
    "# x4_ =tf.keras.layers.Activation('relu')(x4)\n",
    "# x4__ =tf.keras.layers.Dropout(0.3)(x4_)\n",
    "\n",
    "\n",
    "# x5 =tf.keras.layers.Dense(128)(x4__)\n",
    "# x5_ =tf.keras.layers.Activation('relu')(x5)\n",
    "# x5__ =tf.keras.layers.Dropout(0.3)(x5_)\n",
    "\n",
    "# x6= tf.keras.layers.Add([x5__,x4])\n",
    "\n",
    "\n",
    "\n",
    "\n",
    "# x7 =  tf.keras.layers.Dense(64)\n",
    "# x7_ = tf.keras.layers.Activation('relu')(x6)\n",
    "# x7__=tf.keras.layers.Dropout(0.3)(x7_)\n",
    "\n",
    "\n",
    "\n",
    "\n",
    "# x8= tf.keras.layers.Dense(1)(x7__)\n",
    "# x8_ tf.keras.layers.Activation('sigmoid')(x8)\n",
    "# tf.keras.summary()(x8_)"
   ]
  },
  {
   "cell_type": "code",
   "execution_count": 66,
   "metadata": {
    "execution": {
     "iopub.execute_input": "2021-11-19T09:19:12.510920Z",
     "iopub.status.busy": "2021-11-19T09:19:12.510056Z",
     "iopub.status.idle": "2021-11-19T09:19:12.517336Z",
     "shell.execute_reply": "2021-11-19T09:19:12.516930Z",
     "shell.execute_reply.started": "2021-11-19T09:19:12.510894Z"
    },
    "id": "M4LwpIEOUDmk",
    "outputId": "cf65bb3a-063e-43ef-f9c2-2b3fad451ea0"
   },
   "outputs": [
    {
     "name": "stdout",
     "output_type": "stream",
     "text": [
      "{0: 0.6189821182943603, 1: 2.601156069364162}\n"
     ]
    },
    {
     "name": "stderr",
     "output_type": "stream",
     "text": [
      "/opt/conda/lib/python3.7/site-packages/sklearn/utils/validation.py:70: FutureWarning: Pass classes=[0 1], y=[0, 0, 1, 0, 0, 0, 0, 0, 0, 1, 0, 0, 0, 0, 0, 0, 0, 0, 0, 0, 1, 0, 0, 0, 0, 0, 1, 0, 0, 0, 0, 0, 0, 0, 0, 0, 0, 0, 0, 0, 0, 0, 0, 0, 0, 0, 0, 1, 0, 0, 1, 0, 0, 0, 0, 1, 0, 1, 0, 0, 1, 0, 0, 0, 0, 1, 0, 0, 0, 0, 0, 0, 0, 0, 0, 1, 0, 0, 1, 0, 1, 0, 1, 0, 0, 0, 1, 0, 0, 0, 0, 0, 0, 0, 0, 0, 0, 1, 0, 1, 0, 0, 0, 0, 0, 1, 1, 0, 0, 0, 0, 0, 1, 0, 0, 1, 0, 0, 0, 1, 0, 0, 0, 1, 0, 1, 0, 0, 0, 1, 0, 0, 0, 0, 0, 1, 0, 0, 0, 1, 0, 0, 0, 0, 0, 0, 0, 0, 0, 0, 1, 1, 0, 0, 0, 0, 1, 0, 0, 1, 0, 0, 1, 0, 1, 0, 0, 0, 0, 0, 0, 0, 0, 0, 0, 0, 0, 0, 0, 0, 0, 1, 0, 1, 0, 1, 0, 0, 0, 0, 0, 0, 0, 0, 0, 0, 0, 0, 0, 0, 0, 0, 0, 0, 0, 1, 0, 0, 1, 1, 0, 0, 0, 0, 0, 0, 0, 0, 0, 0, 0, 0, 0, 0, 1, 0, 0, 1, 1, 0, 1, 0, 0, 0, 0, 0, 0, 0, 0, 0, 0, 0, 0, 1, 0, 0, 0, 1, 0, 0, 0, 0, 0, 0, 0, 1, 0, 0, 0, 0, 0, 1, 0, 0, 0, 0, 1, 0, 1, 0, 0, 0, 1, 1, 0, 1, 1, 0, 1, 0, 0, 0, 1, 0, 1, 0, 0, 0, 0, 0, 0, 0, 0, 0, 1, 0, 1, 0, 0, 0, 0, 0, 0, 1, 0, 0, 0, 0, 0, 0, 0, 0, 0, 0, 0, 0, 0, 0, 0, 0, 0, 1, 0, 0, 0, 1, 0, 0, 0, 0, 0, 0, 0, 0, 1, 0, 0, 0, 0, 0, 1, 0, 0, 0, 0, 1, 1, 0, 0, 0, 0, 1, 0, 1, 0, 1, 0, 0, 0, 0, 1, 0, 0, 0, 0, 0, 0, 0, 0, 0, 1, 0, 0, 0, 1, 0, 0, 0, 0, 1, 0, 0, 0, 1, 0, 0, 0, 0, 0, 0, 1, 0, 0, 0, 0, 0, 0, 0, 0, 0, 0, 0, 1, 0, 1, 1, 1, 1, 0, 1, 1, 0, 0, 0, 0, 1, 1, 0, 1, 1, 0, 0, 0, 1, 0, 0, 0, 0, 0, 0, 0, 0, 1, 0, 0, 0, 0, 0, 0, 0, 1, 0, 0, 1, 0, 0, 1, 1, 0, 0, 1, 1, 0, 0, 0, 0, 0, 0, 0, 1, 1, 0, 0, 0, 0, 0, 1, 0, 1, 0, 0, 0, 1, 0, 0, 0, 0, 0, 0, 0, 0, 0, 0, 0, 0, 0, 1, 0, 0, 0, 0, 0, 0, 1, 0, 0, 0, 0, 0, 1, 0, 0, 0, 1, 0, 0, 0, 0, 0, 0, 0, 0, 0, 1, 0, 0, 1, 0, 0, 0, 0, 0, 1, 1, 0, 0, 0, 0, 0, 0, 1, 0, 0, 0, 0, 0, 0, 0, 0, 0, 0, 0, 0, 0, 0, 0, 0, 0, 0, 1, 1, 0, 1, 0, 0, 0, 0, 0, 0, 0, 0, 0, 0, 0, 1, 1, 0, 1, 0, 0, 0, 0, 0, 0, 0, 0, 0, 0, 0, 0, 1, 0, 0, 0, 0, 0, 0, 0, 0, 0, 0, 1, 0, 0, 1, 1, 0, 1, 0, 0, 0, 0, 0, 0, 0, 0, 0, 0, 0, 1, 0, 0, 0, 0, 0, 1, 0, 1, 0, 0, 0, 0, 0, 0, 0, 1, 0, 0, 0, 0, 0, 0, 0, 1, 1, 0, 1, 1, 0, 0, 0, 0, 0, 0, 1, 0, 1, 0, 0, 0, 0, 0, 0, 1, 0, 1, 0, 0, 0, 1, 0, 0, 1, 0, 0, 1, 1, 1, 0, 0, 0, 0, 0, 0, 0, 0, 0, 0, 0, 0, 0, 0, 0, 0, 0, 0, 0, 0, 0, 0, 0, 0, 0, 0, 0, 1, 1, 0, 0, 0, 1, 0, 0, 1, 0, 1, 0, 0, 1, 0, 0, 0, 0, 1, 0, 1, 0, 1, 1, 0, 0, 1, 0, 0, 0, 0, 0, 1, 0, 0, 1, 0, 0, 0, 1, 0, 0, 0, 0, 0, 1, 1, 1, 0, 0, 0, 0, 0, 0, 0, 0, 0, 0, 0, 0, 0, 0, 0, 0, 0, 0, 1, 0, 0, 0, 1, 0, 0, 0, 0, 0, 0, 0, 0, 0, 0, 0, 0, 1, 0, 0, 0, 0, 0, 0, 0, 0, 0, 1, 0, 0, 1, 0, 0, 0, 0, 0, 0, 0, 0, 0, 0, 0, 0, 0, 0, 0, 0, 0, 0, 0, 0, 1, 0, 0, 0, 0, 0, 0, 0, 0, 0, 0, 0, 0, 1, 0, 1, 0, 0, 0, 0, 0, 0, 0, 1, 0, 1, 0, 0, 0, 1, 0, 0, 0, 0, 0, 0, 0, 0, 0, 1, 0, 0, 0, 1, 0, 0, 0, 0, 0, 1, 0, 0, 0, 0, 0, 0, 0, 0, 1, 0, 0, 0, 0, 0, 0, 1, 0, 1, 0, 0, 0, 0, 0, 1, 0, 0, 0, 1, 0, 0, 1, 1, 0, 0, 0, 0, 0, 0] as keyword args. From version 0.25 passing these as positional arguments will result in an error\n",
      "  FutureWarning)\n"
     ]
    }
   ],
   "source": [
    "from sklearn.utils.class_weight import compute_class_weight\n",
    "weights = compute_class_weight('balanced', np.unique(train_labels_encoded),train_labels_encoded)\n",
    "cw = dict(zip( np.unique(train_labels_encoded), weights))\n",
    "print(cw)"
   ]
  },
  {
   "cell_type": "code",
   "execution_count": 67,
   "metadata": {
    "execution": {
     "iopub.execute_input": "2021-11-19T09:19:14.756761Z",
     "iopub.status.busy": "2021-11-19T09:19:14.756358Z",
     "iopub.status.idle": "2021-11-19T09:19:14.761656Z",
     "shell.execute_reply": "2021-11-19T09:19:14.760979Z",
     "shell.execute_reply.started": "2021-11-19T09:19:14.756728Z"
    },
    "id": "MGfXNLKtbLGu",
    "outputId": "25077385-0833-4676-d8c0-483e77773841"
   },
   "outputs": [
    {
     "data": {
      "text/plain": [
       "(100, 7, 7, 2048)"
      ]
     },
     "execution_count": 67,
     "metadata": {},
     "output_type": "execute_result"
    }
   ],
   "source": [
    "train_features.shape"
   ]
  },
  {
   "cell_type": "code",
   "execution_count": null,
   "metadata": {
    "id": "MArdGC9uhZ7R"
   },
   "outputs": [],
   "source": []
  },
  {
   "cell_type": "markdown",
   "metadata": {
    "id": "cIA0etoBgtgC"
   },
   "source": []
  },
  {
   "cell_type": "markdown",
   "metadata": {
    "id": "l11guvR7hXkz"
   },
   "source": [
    "---------------**RANDOM** **FOREST**---------------------------"
   ]
  },
  {
   "cell_type": "code",
   "execution_count": 68,
   "metadata": {
    "execution": {
     "iopub.execute_input": "2021-11-19T09:19:17.370606Z",
     "iopub.status.busy": "2021-11-19T09:19:17.370399Z",
     "iopub.status.idle": "2021-11-19T09:19:17.421749Z",
     "shell.execute_reply": "2021-11-19T09:19:17.420771Z",
     "shell.execute_reply.started": "2021-11-19T09:19:17.370584Z"
    },
    "id": "R3I4IxIegqPR",
    "outputId": "c8dd338e-2ec8-4bb6-f3c7-8fbf9c907f4f"
   },
   "outputs": [
    {
     "name": "stdout",
     "output_type": "stream",
     "text": [
      "{'n_estimators': [200, 400, 600, 800, 1000, 1200, 1400, 1600, 1800, 2000], 'max_features': ['auto', 'sqrt'], 'max_depth': [10, 20, 30, 40, 50, 60, 70, 80, 90, 100, 110, None], 'min_samples_split': [2, 5, 10], 'min_samples_leaf': [1, 2, 4], 'bootstrap': [True, False]}\n"
     ]
    }
   ],
   "source": [
    "from sklearn.model_selection import RandomizedSearchCV\n",
    "# Number of trees in random forest\n",
    "n_estimators = [int(x) for x in np.linspace(start = 200, stop = 2000, num = 10)]\n",
    "# Number of features to consider at every split\n",
    "max_features = ['auto', 'sqrt']\n",
    "# Maximum number of levels in tree\n",
    "max_depth = [int(x) for x in np.linspace(10, 110, num = 11)]\n",
    "max_depth.append(None)\n",
    "# Minimum number of samples required to split a node\n",
    "min_samples_split = [2, 5, 10]\n",
    "# Minimum number of samples required at each leaf node\n",
    "min_samples_leaf = [1, 2, 4]\n",
    "# Method of selecting samples for training each tree\n",
    "bootstrap = [True, False]\n",
    "# Create the random grid\n",
    "random_grid = {'n_estimators': n_estimators,\n",
    "               'max_features': max_features,\n",
    "               'max_depth': max_depth,\n",
    "               'min_samples_split': min_samples_split,\n",
    "               'min_samples_leaf': min_samples_leaf,\n",
    "               'bootstrap': bootstrap}\n",
    "print(random_grid,)"
   ]
  },
  {
   "cell_type": "code",
   "execution_count": 71,
   "metadata": {
    "execution": {
     "iopub.execute_input": "2021-11-19T09:19:27.158819Z",
     "iopub.status.busy": "2021-11-19T09:19:27.157892Z",
     "iopub.status.idle": "2021-11-19T09:19:27.163100Z",
     "shell.execute_reply": "2021-11-19T09:19:27.162414Z",
     "shell.execute_reply.started": "2021-11-19T09:19:27.158793Z"
    },
    "id": "CS-iZV9qKgBL",
    "outputId": "c010c413-5b5c-40a9-e93d-133878899982"
   },
   "outputs": [],
   "source": [
    "# from sklearn.ensemble import RandomForestClassifier\n",
    "\n",
    "# rf_random = RandomizedSearchCV(estimator = rf, param_distributions = random_grid, n_iter = 10, cv = 2, verbose=2, random_state=42, n_jobs = -1)\n",
    "# rf_random.fit(train_features.reshape(train_features.shape[0],-1), train_labels_encoded)\n",
    "# print(rf_random.best_params_)"
   ]
  },
  {
   "cell_type": "code",
   "execution_count": 72,
   "metadata": {
    "execution": {
     "iopub.execute_input": "2021-11-19T09:19:29.101831Z",
     "iopub.status.busy": "2021-11-19T09:19:29.101560Z",
     "iopub.status.idle": "2021-11-19T09:19:29.105568Z",
     "shell.execute_reply": "2021-11-19T09:19:29.104967Z",
     "shell.execute_reply.started": "2021-11-19T09:19:29.101802Z"
    },
    "id": "et0cwUymIuSz"
   },
   "outputs": [],
   "source": [
    "# from sklearn.ensemble import RandomForestClassifier\n",
    "\n",
    "# rf = RandomForestClassifier(n_estimators= 1000, min_samples_split= 10, min_samples_leaf= 1, max_features= 'auto', max_depth= 80, bootstrap= False)\n",
    "# rf.fit(train_features.reshape(train_features.shape[0],-1),train_labels_encoded)\n",
    "# pred_rf = rf.predict_proba(test_features.reshape(test_features.shape[0],-1))\n",
    "\n",
    "\n",
    "\n",
    "\n",
    "\n",
    "\n",
    "\n"
   ]
  },
  {
   "cell_type": "code",
   "execution_count": null,
   "metadata": {
    "id": "Estkxeu-2Ckh"
   },
   "outputs": [],
   "source": []
  },
  {
   "cell_type": "code",
   "execution_count": null,
   "metadata": {
    "execution": {
     "iopub.status.busy": "2021-11-19T09:08:20.065417Z",
     "iopub.status.idle": "2021-11-19T09:08:20.065949Z",
     "shell.execute_reply": "2021-11-19T09:08:20.065737Z",
     "shell.execute_reply.started": "2021-11-19T09:08:20.065715Z"
    },
    "id": "deA6qZfAkLTo"
   },
   "outputs": [],
   "source": [
    "# # n= [x for x in np.linspace(0.1, 1, 0.05)] \n",
    "# # predictions_rf = pred_rf.copy()\n",
    "# # predictions_rf[predictions_rf] < n\n",
    "# # predictions_rf[predictions_rf] > n\n",
    "# # import decimal\n",
    "# # from sklearn.metrics import roc_curve, roc_auc_score\n",
    "# # from sklearn import metrics\n",
    "# # def float_range(start, stop , step):\n",
    "# #   while start < stop:\n",
    "# #     yield float(start)\n",
    "# #     start += decimal.Decimal(step)\n",
    "\n",
    "\n",
    "# # for x in list(float_range(0, 1, '0.005')):\n",
    "\n",
    "# predictions_rf = pred_rf[:,1].copy()\n",
    "# predictions_rf[predictions_rf <= 0.275] = 0\n",
    "# predictions_rf[predictions_rf > 0.275] = 1\n",
    "# # print(roc_auc_score(test_labels_encoded , predictions_rf),x) \n",
    "\n",
    "\n",
    "\n"
   ]
  },
  {
   "cell_type": "code",
   "execution_count": null,
   "metadata": {
    "execution": {
     "iopub.status.busy": "2021-11-19T09:08:20.066816Z",
     "iopub.status.idle": "2021-11-19T09:08:20.067092Z",
     "shell.execute_reply": "2021-11-19T09:08:20.066951Z",
     "shell.execute_reply.started": "2021-11-19T09:08:20.066934Z"
    },
    "id": "MGcJVmZti2Wv",
    "outputId": "1c9f4fc6-9176-4a30-d4cb-2855418dfcc5"
   },
   "outputs": [],
   "source": [
    "\n",
    "# from sklearn.metrics import classification_report,confusion_matrix\n",
    "# cm = pd.DataFrame(data=confusion_matrix(test_labels_encoded, predictions_rf, labels=[0, 1]),index=[\"Actual Covid\", \"Actual Normal\"],\n",
    "# columns=[\"Predicted Covid\", \"Predicted Normal\"])\n",
    "# import seaborn as sns\n",
    "# sns.heatmap(cm,annot=True,fmt=\"d\")\n"
   ]
  },
  {
   "cell_type": "code",
   "execution_count": null,
   "metadata": {
    "execution": {
     "iopub.status.busy": "2021-11-19T09:08:20.068254Z",
     "iopub.status.idle": "2021-11-19T09:08:20.068515Z",
     "shell.execute_reply": "2021-11-19T09:08:20.068398Z",
     "shell.execute_reply.started": "2021-11-19T09:08:20.068381Z"
    },
    "id": "-7-ys8kegosu",
    "outputId": "634fd748-ede9-47dd-fbac-3072002783fd"
   },
   "outputs": [],
   "source": [
    "# from sklearn.metrics import classification_report,confusion_matrix\n",
    "# print(classification_report(y_true=test_labels_encoded , y_pred=predictions_rf,target_names =['Covid','Normal']))\n",
    "# from sklearn import metrics\n",
    "# #print(metrics.accuracy_score(test_labels_encoded,predictions_rf))\n",
    "\n"
   ]
  },
  {
   "cell_type": "code",
   "execution_count": null,
   "metadata": {
    "execution": {
     "iopub.status.busy": "2021-11-19T09:08:20.069220Z",
     "iopub.status.idle": "2021-11-19T09:08:20.069469Z",
     "shell.execute_reply": "2021-11-19T09:08:20.069354Z",
     "shell.execute_reply.started": "2021-11-19T09:08:20.069338Z"
    },
    "id": "lHrNenCGgow6"
   },
   "outputs": [],
   "source": [
    "# from sklearn.metrics import roc_curve, roc_auc_score\n",
    "# # roc curve for models\n",
    "# fpr2, tpr2, thresh2 = roc_curve(test_labels_encoded,pred_rf[:,1])\n",
    "# random_probs = [0 for i in range(len(test_labels_encoded))]\n",
    "# p_fpr, p_tpr, _ = roc_curve(test_labels_encoded, random_probs, pos_label=1)"
   ]
  },
  {
   "cell_type": "code",
   "execution_count": null,
   "metadata": {
    "id": "O_nl-gOmhdBc"
   },
   "outputs": [],
   "source": []
  },
  {
   "cell_type": "code",
   "execution_count": null,
   "metadata": {
    "execution": {
     "iopub.status.busy": "2021-11-19T09:08:20.070521Z",
     "iopub.status.idle": "2021-11-19T09:08:20.070765Z",
     "shell.execute_reply": "2021-11-19T09:08:20.070651Z",
     "shell.execute_reply.started": "2021-11-19T09:08:20.070635Z"
    },
    "id": "SGvwrNw5hdEc",
    "outputId": "a4201167-8d46-4e82-c0db-3ea9f9485052"
   },
   "outputs": [],
   "source": [
    "#  #plot roc curves\n",
    "# plt.plot(fpr2, tpr2, marker='.',color='BLACK',label = \"Resnet50 + RANDOM_FOREST\")\n",
    "# plt.plot(p_fpr, p_tpr, linestyle='--', color='blue',label = \"No_skill\")\n",
    "# # title\n",
    "# plt.title('ROC curve')\n",
    "# # x label\n",
    "# plt.xlabel('False Positive Rate')\n",
    "# # y label\n",
    "# plt.ylabel('True Positive rate')\n",
    "\n",
    "# plt.legend(loc='best')\n",
    "# plt.savefig('ROC',dpi=300)\n",
    "# plt.show();"
   ]
  },
  {
   "cell_type": "code",
   "execution_count": null,
   "metadata": {
    "execution": {
     "iopub.status.busy": "2021-11-19T09:08:20.071533Z",
     "iopub.status.idle": "2021-11-19T09:08:20.071773Z",
     "shell.execute_reply": "2021-11-19T09:08:20.071657Z",
     "shell.execute_reply.started": "2021-11-19T09:08:20.071641Z"
    },
    "id": "Hfrg0XsGhdHF",
    "outputId": "ad51bd02-22d3-457b-8a66-a8bb327e7d16"
   },
   "outputs": [],
   "source": [
    "auc = roc_auc_score(test_labels_encoded, pred_rf[:,1])\n",
    "print('AUC of \"RESNET50 + RANDOM_FOREST\": %.3f' % auc)"
   ]
  },
  {
   "cell_type": "markdown",
   "metadata": {
    "id": "RRsFHXInmpzM"
   },
   "source": [
    "**------------------------------------Gradient_BOOST**-----------------------------------------------\n",
    "\n",
    "\n"
   ]
  },
  {
   "cell_type": "code",
   "execution_count": null,
   "metadata": {
    "execution": {
     "iopub.status.busy": "2021-11-19T09:08:20.072799Z",
     "iopub.status.idle": "2021-11-19T09:08:20.073094Z",
     "shell.execute_reply": "2021-11-19T09:08:20.072937Z",
     "shell.execute_reply.started": "2021-11-19T09:08:20.072914Z"
    },
    "id": "I0MwhLAhhdJY"
   },
   "outputs": [],
   "source": [
    "import xgboost as xgb\n",
    "model = xgb.XGBClassifier()\n",
    "model.fit(train_features.reshape(train_features.shape[0],-1),train_labels_encoded)\n",
    "pred_xgb = model.predict(test_features.reshape(test_features.shape[0],-1))\n",
    "\n",
    "\n",
    "from sklearn.metrics import classification_report,confusion_matrix\n",
    "cm = pd.DataFrame(data=confusion_matrix(test_labels_encoded, pred_xgb, labels=[0, 1]),index=[\"Actual Covid\", \"Actual Normal\"],\n",
    "columns=[\"Predicted Covid\", \"Predicted Normal\"])\n",
    "import seaborn as sns\n",
    "sns.heatmap(cm,annot=True,fmt=\"d\")"
   ]
  },
  {
   "cell_type": "code",
   "execution_count": null,
   "metadata": {
    "execution": {
     "iopub.status.busy": "2021-11-19T09:08:20.074442Z",
     "iopub.status.idle": "2021-11-19T09:08:20.074983Z",
     "shell.execute_reply": "2021-11-19T09:08:20.074853Z",
     "shell.execute_reply.started": "2021-11-19T09:08:20.074835Z"
    },
    "id": "b8oLDJ9Dhjf5",
    "outputId": "005cd856-685c-40e5-8ea2-c1b44e32520e"
   },
   "outputs": [],
   "source": [
    "print(classification_report(y_true=test_labels_encoded , y_pred=pred_xgb,target_names =['Covid','Normal']))\n"
   ]
  },
  {
   "cell_type": "code",
   "execution_count": null,
   "metadata": {
    "execution": {
     "iopub.status.busy": "2021-11-19T09:08:20.075713Z",
     "iopub.status.idle": "2021-11-19T09:08:20.076284Z",
     "shell.execute_reply": "2021-11-19T09:08:20.076123Z",
     "shell.execute_reply.started": "2021-11-19T09:08:20.076102Z"
    },
    "id": "QVZQDzJhPI3T"
   },
   "outputs": [],
   "source": [
    "from sklearn.metrics import roc_curve, roc_auc_score\n",
    "# roc curve for models\n",
    "fpr1, tpr1, thresh1 = roc_curve(test_labels_encoded,pred_xgb)\n",
    "random_probs = [0 for i in range(len(test_labels_encoded))]\n",
    "p_fpr, p_tpr, _ = roc_curve(test_labels_encoded, random_probs, pos_label=1)"
   ]
  },
  {
   "cell_type": "code",
   "execution_count": null,
   "metadata": {
    "execution": {
     "iopub.status.busy": "2021-11-19T09:08:20.077462Z",
     "iopub.status.idle": "2021-11-19T09:08:20.077772Z",
     "shell.execute_reply": "2021-11-19T09:08:20.077625Z",
     "shell.execute_reply.started": "2021-11-19T09:08:20.077605Z"
    },
    "id": "8-lOxtMoPI6_",
    "outputId": "86f103fe-32d1-4b64-81f4-42d61346d28c"
   },
   "outputs": [],
   "source": [
    "#plot roc curves\n",
    "plt.plot(fpr1, tpr1, linestyle='-.',color='brown',label = \"Resnet50 + XGboost\")\n",
    "plt.plot(p_fpr, p_tpr, linestyle='--', color='blue',label = \"No_skill\")\n",
    "# title\n",
    "plt.title('ROC curve')\n",
    "# x label\n",
    "plt.xlabel('False Positive Rate')\n",
    "# y label\n",
    "plt.ylabel('True Positive rate')\n",
    "\n",
    "plt.legend(loc='best')\n",
    "plt.savefig('ROC',dpi=300)\n",
    "plt.show();"
   ]
  },
  {
   "cell_type": "code",
   "execution_count": null,
   "metadata": {
    "execution": {
     "iopub.status.busy": "2021-11-19T09:08:20.078806Z",
     "iopub.status.idle": "2021-11-19T09:08:20.079149Z",
     "shell.execute_reply": "2021-11-19T09:08:20.078976Z",
     "shell.execute_reply.started": "2021-11-19T09:08:20.078956Z"
    },
    "id": "ahfoeVrnPVrT",
    "outputId": "297f41ae-10b6-4f68-f621-17b262753803"
   },
   "outputs": [],
   "source": [
    "auc = roc_auc_score(test_labels_encoded, pred_xgb)\n",
    "print('AUC of \"RESNET50 + gradient_boost\": %.3f' % auc)"
   ]
  },
  {
   "cell_type": "code",
   "execution_count": null,
   "metadata": {
    "id": "FGPXxKGKPI80"
   },
   "outputs": [],
   "source": []
  },
  {
   "cell_type": "code",
   "execution_count": null,
   "metadata": {
    "id": "jyc24ZlXPI_I"
   },
   "outputs": [],
   "source": []
  },
  {
   "cell_type": "markdown",
   "metadata": {
    "id": "MSfLU_eUt-FO"
   },
   "source": [
    "================**LOGISTIC REGRESSION**====================="
   ]
  },
  {
   "cell_type": "code",
   "execution_count": null,
   "metadata": {
    "execution": {
     "iopub.status.busy": "2021-11-19T09:08:20.080326Z",
     "iopub.status.idle": "2021-11-19T09:08:20.080621Z",
     "shell.execute_reply": "2021-11-19T09:08:20.080479Z",
     "shell.execute_reply.started": "2021-11-19T09:08:20.080461Z"
    },
    "id": "T0C6YNEzPJBY"
   },
   "outputs": [],
   "source": [
    "from sklearn.linear_model import LogisticRegression"
   ]
  },
  {
   "cell_type": "code",
   "execution_count": null,
   "metadata": {
    "execution": {
     "iopub.status.busy": "2021-11-19T09:08:20.081971Z",
     "iopub.status.idle": "2021-11-19T09:08:20.082297Z",
     "shell.execute_reply": "2021-11-19T09:08:20.082153Z",
     "shell.execute_reply.started": "2021-11-19T09:08:20.082134Z"
    },
    "id": "5dj2gH4JPJDT",
    "outputId": "831416a4-7cc5-4a66-eb72-e669cc83b3ac"
   },
   "outputs": [],
   "source": [
    "lr = LogisticRegression()\n",
    "lr.fit(train_features.reshape(train_features.shape[0],-1),train_labels_encoded)\n",
    "pred_lr = lr.predict(test_features.reshape(test_features.shape[0],-1))\n",
    "\n",
    "from sklearn.metrics import classification_report,confusion_matrix\n",
    "cm = pd.DataFrame(data=confusion_matrix(test_labels_encoded, pred_lr, labels=[0, 1]),index=[\"Actual Covid\", \"Actual Normal\"],\n",
    "columns=[\"Predicted Covid\", \"Predicted Normal\"])\n",
    "import seaborn as sns\n",
    "sns.heatmap(cm,annot=True,fmt=\"d\")"
   ]
  },
  {
   "cell_type": "code",
   "execution_count": null,
   "metadata": {
    "execution": {
     "iopub.status.busy": "2021-11-19T09:08:20.083294Z",
     "iopub.status.idle": "2021-11-19T09:08:20.083587Z",
     "shell.execute_reply": "2021-11-19T09:08:20.083445Z",
     "shell.execute_reply.started": "2021-11-19T09:08:20.083426Z"
    },
    "id": "sU-4h2fAPJFe"
   },
   "outputs": [],
   "source": [
    "print(classification_report(y_true=test_labels_encoded , y_pred=pred_lr,target_names =['Covid','Normal']))\n"
   ]
  },
  {
   "cell_type": "code",
   "execution_count": null,
   "metadata": {
    "execution": {
     "iopub.status.busy": "2021-11-19T09:08:20.085000Z",
     "iopub.status.idle": "2021-11-19T09:08:20.085275Z",
     "shell.execute_reply": "2021-11-19T09:08:20.085157Z",
     "shell.execute_reply.started": "2021-11-19T09:08:20.085141Z"
    },
    "id": "CCHPCWtZPJHr"
   },
   "outputs": [],
   "source": [
    "from sklearn.metrics import roc_curve, roc_auc_score\n",
    "# roc curve for models\n",
    "fpr3, tpr3, thresh1 = roc_curve(test_labels_encoded,pred_lr)\n",
    "random_probs = [0 for i in range(len(test_labels_encoded))]\n",
    "p_fpr, p_tpr, _ = roc_curve(test_labels_encoded, random_probs, pos_label=1)"
   ]
  },
  {
   "cell_type": "code",
   "execution_count": null,
   "metadata": {
    "execution": {
     "iopub.status.busy": "2021-11-19T09:08:20.086331Z",
     "iopub.status.idle": "2021-11-19T09:08:20.086575Z",
     "shell.execute_reply": "2021-11-19T09:08:20.086454Z",
     "shell.execute_reply.started": "2021-11-19T09:08:20.086438Z"
    },
    "id": "L0yJN2vPPJJz",
    "outputId": "95075062-970f-412d-a8b7-9b80e1a30be1"
   },
   "outputs": [],
   "source": [
    "#plot roc curves\n",
    "plt.plot(fpr3, tpr3, marker='.',color='green',label = \"Resnet50 + Logistic_regression\")\n",
    "plt.plot(p_fpr, p_tpr, linestyle='--', color='blue',label = \"No_skill\")\n",
    "# title\n",
    "plt.title('ROC curve')\n",
    "# x label\n",
    "plt.xlabel('False Positive Rate')\n",
    "# y label\n",
    "plt.ylabel('True Positive rate')\n",
    "\n",
    "plt.legend(loc='best')\n",
    "plt.savefig('ROC',dpi=300)\n",
    "plt.show();"
   ]
  },
  {
   "cell_type": "code",
   "execution_count": null,
   "metadata": {
    "execution": {
     "iopub.status.busy": "2021-11-19T09:08:20.088111Z",
     "iopub.status.idle": "2021-11-19T09:08:20.088415Z",
     "shell.execute_reply": "2021-11-19T09:08:20.088272Z",
     "shell.execute_reply.started": "2021-11-19T09:08:20.088253Z"
    },
    "id": "oUp8eTOevT7F",
    "outputId": "53a9fd1b-1161-4e0d-d99d-48453d045b3b"
   },
   "outputs": [],
   "source": [
    "auc = roc_auc_score(test_labels_encoded, pred_lr)\n",
    "print('AUC of \"RESNET50 + logistic_regression\": %.3f' % auc)"
   ]
  },
  {
   "cell_type": "markdown",
   "metadata": {
    "id": "z9Zi5JzoMTvd"
   },
   "source": [
    "---------------------------------**K - NEAREST NEIGHBORS**-------------------------------"
   ]
  },
  {
   "cell_type": "code",
   "execution_count": null,
   "metadata": {
    "execution": {
     "iopub.status.busy": "2021-11-19T09:08:20.089391Z",
     "iopub.status.idle": "2021-11-19T09:08:20.089687Z",
     "shell.execute_reply": "2021-11-19T09:08:20.089545Z",
     "shell.execute_reply.started": "2021-11-19T09:08:20.089527Z"
    },
    "id": "sMx4LTpyvT9-"
   },
   "outputs": [],
   "source": [
    "from sklearn.neighbors import KNeighborsClassifier\n",
    "knn = KNeighborsClassifier(n_neighbors=5)\n",
    "knn.fit(train_features.reshape(train_features.shape[0],-1),train_labels_encoded)\n",
    "knn_pred = knn.predict(test_features.reshape(test_features.shape[0],-1))"
   ]
  },
  {
   "cell_type": "code",
   "execution_count": null,
   "metadata": {
    "execution": {
     "iopub.status.busy": "2021-11-19T09:08:20.090636Z",
     "iopub.status.idle": "2021-11-19T09:08:20.090937Z",
     "shell.execute_reply": "2021-11-19T09:08:20.090786Z",
     "shell.execute_reply.started": "2021-11-19T09:08:20.090767Z"
    },
    "id": "i6fyobEWJ83Q",
    "outputId": "3d2f7661-915a-4fb5-e169-b14864fa4a6d"
   },
   "outputs": [],
   "source": [
    "print(classification_report(y_true=test_labels_encoded , y_pred= knn_pred,target_names =['Covid','Normal']))"
   ]
  },
  {
   "cell_type": "code",
   "execution_count": null,
   "metadata": {
    "execution": {
     "iopub.status.busy": "2021-11-19T09:08:20.092029Z",
     "iopub.status.idle": "2021-11-19T09:08:20.092371Z",
     "shell.execute_reply": "2021-11-19T09:08:20.092218Z",
     "shell.execute_reply.started": "2021-11-19T09:08:20.092195Z"
    },
    "id": "yrpzrXW5Gx9D",
    "outputId": "1f1b657f-2755-47d9-9400-c5320f1eeb2a"
   },
   "outputs": [],
   "source": [
    "from sklearn.metrics import classification_report,confusion_matrix,accuracy_score\n",
    "cm = pd.DataFrame(data=confusion_matrix(test_labels_encoded, knn_pred, labels=[0, 1]),index=[\"Actual Covid\", \"Actual Normal\"],\n",
    "columns=[\"Predicted Covid\", \"Predicted Normal\"])\n",
    "import seaborn as sns\n",
    "sns.heatmap(cm,annot=True,fmt=\"d\")"
   ]
  },
  {
   "cell_type": "code",
   "execution_count": null,
   "metadata": {
    "id": "YpCNoUwGKAft"
   },
   "outputs": [],
   "source": []
  },
  {
   "cell_type": "code",
   "execution_count": null,
   "metadata": {
    "execution": {
     "iopub.status.busy": "2021-11-19T09:08:20.093632Z",
     "iopub.status.idle": "2021-11-19T09:08:20.093897Z",
     "shell.execute_reply": "2021-11-19T09:08:20.093768Z",
     "shell.execute_reply.started": "2021-11-19T09:08:20.093746Z"
    },
    "id": "k7dJKQD3GyA7",
    "outputId": "f2c60fc8-4150-49e2-9755-80650f762a86"
   },
   "outputs": [],
   "source": [
    "from sklearn.neighbors import KNeighborsClassifier\n",
    "from sklearn.metrics import accuracy_score\n",
    "for i in [1,2,3,4,5,6,7,8,9,10]:\n",
    "  \n",
    "  knn = KNeighborsClassifier(n_neighbors=int(i))\n",
    "  knn.fit(train_features.reshape(train_features.shape[0],-1),train_labels_encoded)\n",
    "  knn_pred = knn.predict(test_features.reshape(test_features.shape[0],-1))\n",
    "  print(accuracy_score(test_labels_encoded,knn_pred),i)\n"
   ]
  },
  {
   "cell_type": "code",
   "execution_count": null,
   "metadata": {
    "execution": {
     "iopub.status.busy": "2021-11-19T09:08:20.094916Z",
     "iopub.status.idle": "2021-11-19T09:08:20.095204Z",
     "shell.execute_reply": "2021-11-19T09:08:20.095043Z",
     "shell.execute_reply.started": "2021-11-19T09:08:20.095024Z"
    },
    "id": "cWH47MHeGyEM"
   },
   "outputs": [],
   "source": [
    "from sklearn.metrics import roc_curve, roc_auc_score\n",
    "# roc curve for models\n",
    "fpr4, tpr4, thresh4 = roc_curve(test_labels_encoded,knn_pred)\n",
    "random_probs = [0 for i in range(len(test_labels_encoded))]\n",
    "p_fpr, p_tpr, _ = roc_curve(test_labels_encoded, random_probs, pos_label=1)"
   ]
  },
  {
   "cell_type": "code",
   "execution_count": null,
   "metadata": {
    "execution": {
     "iopub.status.busy": "2021-11-19T09:08:20.095827Z",
     "iopub.status.idle": "2021-11-19T09:08:20.096061Z",
     "shell.execute_reply": "2021-11-19T09:08:20.095949Z",
     "shell.execute_reply.started": "2021-11-19T09:08:20.095934Z"
    },
    "id": "iMsV5CmJGyHL"
   },
   "outputs": [],
   "source": [
    "#plot roc curves\n",
    "plt.plot(fpr4, tpr4, marker='.',color='green',label = \"Resnet50 + Logistic_regression\")\n",
    "plt.plot(p_fpr, p_tpr, linestyle='--', color='blue',label = \"No_skill\")\n",
    "# title\n",
    "plt.title('ROC curve')\n",
    "# x label\n",
    "plt.xlabel('False Positive Rate')\n",
    "# y label\n",
    "plt.ylabel('True Positive rate')\n",
    "\n",
    "plt.legend(loc='best')\n",
    "plt.savefig('ROC',dpi=300)\n",
    "plt.show();"
   ]
  },
  {
   "cell_type": "code",
   "execution_count": null,
   "metadata": {
    "execution": {
     "iopub.status.busy": "2021-11-19T09:08:20.097409Z",
     "iopub.status.idle": "2021-11-19T09:08:20.098015Z",
     "shell.execute_reply": "2021-11-19T09:08:20.097902Z",
     "shell.execute_reply.started": "2021-11-19T09:08:20.097888Z"
    },
    "id": "n_1hepNPGyJ1",
    "outputId": "be420590-630b-4d13-f770-6d76ae219afe"
   },
   "outputs": [],
   "source": [
    "auc = roc_auc_score(test_labels_encoded,knn_pred )\n",
    "print('AUC of \"RESNET50 + KNN\": %.3f' % auc)"
   ]
  },
  {
   "cell_type": "markdown",
   "metadata": {
    "id": "rOrtiGEK45Nb"
   },
   "source": [
    "=================**SVM**=========================================="
   ]
  },
  {
   "cell_type": "code",
   "execution_count": null,
   "metadata": {
    "execution": {
     "iopub.status.busy": "2021-11-19T09:08:20.098519Z",
     "iopub.status.idle": "2021-11-19T09:08:20.098755Z",
     "shell.execute_reply": "2021-11-19T09:08:20.098640Z",
     "shell.execute_reply.started": "2021-11-19T09:08:20.098625Z"
    },
    "id": "O1rah6WivUBA"
   },
   "outputs": [],
   "source": [
    "from sklearn.svm  import SVC\n",
    "from sklearn.model_selection import GridSearchCV\n",
    "param_grid={'C':[0.1],'gamma':[0.1],'kernel':['rbf']}\n",
    "svm= SVC(probability=True)\n",
    "model=GridSearchCV(svm,param_grid)\n",
    "\n",
    "model.fit(train_features.reshape(train_features.shape[0],-1),train_labels_encoded)\n",
    "svm_pred = model.predict_proba(test_features.reshape(test_features.shape[0],-1))\n"
   ]
  },
  {
   "cell_type": "code",
   "execution_count": null,
   "metadata": {
    "execution": {
     "iopub.status.busy": "2021-11-19T09:08:20.099514Z",
     "iopub.status.idle": "2021-11-19T09:08:20.099740Z",
     "shell.execute_reply": "2021-11-19T09:08:20.099633Z",
     "shell.execute_reply.started": "2021-11-19T09:08:20.099621Z"
    },
    "id": "LLtMhfmI43mx"
   },
   "outputs": [],
   "source": [
    "import decimal\n",
    "from sklearn.metrics import roc_curve, roc_auc_score\n",
    "from sklearn import metrics\n",
    "def float_range(start, stop , step):\n",
    "  while start < stop:\n",
    "    yield float(start)\n",
    "    start += decimal.Decimal(step)\n",
    "\n",
    "\n",
    "for x in list(float_range(0, 1, '0.005')):\n",
    "\n",
    "  predictions_svm = svm_pred[:,1].copy()\n",
    "  predictions_svm[predictions_rf <= x] = 0\n",
    "  predictions_svm[predictions_rf > x] = 1\n",
    "  print(roc_auc_score(test_labels_encoded , predictions_svm),x) \n"
   ]
  },
  {
   "cell_type": "markdown",
   "metadata": {
    "id": "hldVxRJbBlDO"
   },
   "source": [
    "==============================**NAIVE BAYES**==========================================\n"
   ]
  },
  {
   "cell_type": "code",
   "execution_count": null,
   "metadata": {
    "id": "yFXhZkgLlezc"
   },
   "outputs": [],
   "source": []
  },
  {
   "cell_type": "code",
   "execution_count": null,
   "metadata": {
    "id": "fNY3h1nnle8M"
   },
   "outputs": [],
   "source": []
  },
  {
   "cell_type": "code",
   "execution_count": null,
   "metadata": {
    "id": "mqY-dxNnle_N"
   },
   "outputs": [],
   "source": []
  },
  {
   "cell_type": "code",
   "execution_count": null,
   "metadata": {
    "id": "LLZcclT643p7"
   },
   "outputs": [],
   "source": []
  },
  {
   "cell_type": "code",
   "execution_count": null,
   "metadata": {
    "id": "TDpGWbTJ43sv"
   },
   "outputs": [],
   "source": []
  },
  {
   "cell_type": "code",
   "execution_count": null,
   "metadata": {
    "id": "KtSGzXO943vP"
   },
   "outputs": [],
   "source": []
  },
  {
   "cell_type": "code",
   "execution_count": null,
   "metadata": {
    "id": "lBEUGiD743xr"
   },
   "outputs": [],
   "source": []
  },
  {
   "cell_type": "markdown",
   "metadata": {
    "id": "yzjzsc3PhlZV"
   },
   "source": [
    "--------------------------------------**CUSTOMISED** **ANN**---------------------------------------------"
   ]
  },
  {
   "cell_type": "code",
   "execution_count": 73,
   "metadata": {
    "execution": {
     "iopub.execute_input": "2021-11-19T09:20:01.124406Z",
     "iopub.status.busy": "2021-11-19T09:20:01.123904Z",
     "iopub.status.idle": "2021-11-19T09:20:02.184855Z",
     "shell.execute_reply": "2021-11-19T09:20:02.183718Z",
     "shell.execute_reply.started": "2021-11-19T09:20:01.124343Z"
    },
    "id": "Q3GKL6Bphji9",
    "outputId": "6e4f8bd7-e6d1-4132-e2c5-22cc0d564674"
   },
   "outputs": [
    {
     "name": "stdout",
     "output_type": "stream",
     "text": [
      "Model: \"sequential\"\n",
      "_________________________________________________________________\n",
      "Layer (type)                 Output Shape              Param #   \n",
      "=================================================================\n",
      "flatten (Flatten)            (None, 100352)            0         \n",
      "_________________________________________________________________\n",
      "dropout (Dropout)            (None, 100352)            0         \n",
      "_________________________________________________________________\n",
      "dense (Dense)                (None, 2048)              205522944 \n",
      "_________________________________________________________________\n",
      "dropout_1 (Dropout)          (None, 2048)              0         \n",
      "_________________________________________________________________\n",
      "dense_1 (Dense)              (None, 1024)              2098176   \n",
      "_________________________________________________________________\n",
      "dropout_2 (Dropout)          (None, 1024)              0         \n",
      "_________________________________________________________________\n",
      "dense_2 (Dense)              (None, 512)               524800    \n",
      "_________________________________________________________________\n",
      "dropout_3 (Dropout)          (None, 512)               0         \n",
      "_________________________________________________________________\n",
      "dense_3 (Dense)              (None, 256)               131328    \n",
      "_________________________________________________________________\n",
      "dropout_4 (Dropout)          (None, 256)               0         \n",
      "_________________________________________________________________\n",
      "dense_4 (Dense)              (None, 128)               32896     \n",
      "_________________________________________________________________\n",
      "dropout_5 (Dropout)          (None, 128)               0         \n",
      "_________________________________________________________________\n",
      "dense_5 (Dense)              (None, 64)                8256      \n",
      "_________________________________________________________________\n",
      "dropout_6 (Dropout)          (None, 64)                0         \n",
      "_________________________________________________________________\n",
      "dense_6 (Dense)              (None, 1)                 65        \n",
      "=================================================================\n",
      "Total params: 208,318,465\n",
      "Trainable params: 208,318,465\n",
      "Non-trainable params: 0\n",
      "_________________________________________________________________\n"
     ]
    }
   ],
   "source": [
    "model = Sequential()\n",
    "model.add(Flatten(input_shape = (7,7,2048)))\n",
    "model.add(Dropout(0.3))\n",
    "model.add(Dense(2048, activation='relu'))\n",
    "model.add(Dropout(0.3))\n",
    "model.add(Dense(1024, activation='relu'))\n",
    "model.add(Dropout(0.3))\n",
    "model.add(Dense(512, activation='relu'))\n",
    "model.add(Dropout(0.3))\n",
    "model.add(Dense(256, activation='relu'))\n",
    "model.add(Dropout(0.3))\n",
    "model.add(Dense(128, activation='relu'))\n",
    "model.add(Dropout(0.3))\n",
    "model.add(Dense(64, activation='relu'))\n",
    "model.add(Dropout(0.3))\n",
    "\n",
    "model.add(Dense(1, activation='sigmoid'))\n",
    "model.summary()\n"
   ]
  },
  {
   "cell_type": "code",
   "execution_count": null,
   "metadata": {
    "id": "SViVZ86Qhjlx"
   },
   "outputs": [],
   "source": []
  },
  {
   "cell_type": "code",
   "execution_count": 74,
   "metadata": {
    "execution": {
     "iopub.execute_input": "2021-11-19T09:20:15.125254Z",
     "iopub.status.busy": "2021-11-19T09:20:15.124838Z",
     "iopub.status.idle": "2021-11-19T09:20:15.160712Z",
     "shell.execute_reply": "2021-11-19T09:20:15.160003Z",
     "shell.execute_reply.started": "2021-11-19T09:20:15.125224Z"
    },
    "id": "3oJizww9EUM3",
    "outputId": "2c224f1e-04e8-4aba-8027-221756eab230"
   },
   "outputs": [
    {
     "ename": "NameError",
     "evalue": "name 'test_features' is not defined",
     "output_type": "error",
     "traceback": [
      "\u001b[0;31m---------------------------------------------------------------------------\u001b[0m",
      "\u001b[0;31mNameError\u001b[0m                                 Traceback (most recent call last)",
      "\u001b[0;32m/tmp/ipykernel_37/758584290.py\u001b[0m in \u001b[0;36m<module>\u001b[0;34m\u001b[0m\n\u001b[1;32m      9\u001b[0m \u001b[0;34m\u001b[0m\u001b[0m\n\u001b[1;32m     10\u001b[0m \u001b[0;34m\u001b[0m\u001b[0m\n\u001b[0;32m---> 11\u001b[0;31m \u001b[0mhistory\u001b[0m \u001b[0;34m=\u001b[0m \u001b[0mmodel\u001b[0m\u001b[0;34m.\u001b[0m\u001b[0mfit\u001b[0m\u001b[0;34m(\u001b[0m\u001b[0mtrain_features\u001b[0m\u001b[0;34m,\u001b[0m\u001b[0mtrain_labels_encoded\u001b[0m\u001b[0;34m,\u001b[0m \u001b[0mbatch_size\u001b[0m \u001b[0;34m=\u001b[0m\u001b[0;36m32\u001b[0m \u001b[0;34m,\u001b[0m \u001b[0mcallbacks\u001b[0m\u001b[0;34m=\u001b[0m \u001b[0mcallbacks_list\u001b[0m \u001b[0;34m,\u001b[0m \u001b[0mclass_weight\u001b[0m \u001b[0;34m=\u001b[0m \u001b[0mcw\u001b[0m \u001b[0;34m,\u001b[0m \u001b[0mepochs\u001b[0m\u001b[0;34m=\u001b[0m\u001b[0;36m100\u001b[0m\u001b[0;34m,\u001b[0m \u001b[0mvalidation_data\u001b[0m\u001b[0;34m=\u001b[0m \u001b[0;34m(\u001b[0m\u001b[0mtest_features\u001b[0m\u001b[0;34m,\u001b[0m\u001b[0mtest_labels_encoded\u001b[0m\u001b[0;34m)\u001b[0m\u001b[0;34m)\u001b[0m\u001b[0;34m\u001b[0m\u001b[0;34m\u001b[0m\u001b[0m\n\u001b[0m",
      "\u001b[0;31mNameError\u001b[0m: name 'test_features' is not defined"
     ]
    }
   ],
   "source": [
    "from tensorflow.keras.callbacks import EarlyStopping,ReduceLROnPlateau\n",
    "early = EarlyStopping(monitor=\"val_loss\", mode= \"min\", patience=5)\n",
    "learning_rate_reduction = ReduceLROnPlateau(monitor=\"val_loss\", patience =2, verbose=1,factor=0.3, min_learning_rate=0.000001)\n",
    "callbacks_list = [ early,learning_rate_reduction]\n",
    "# Compile model\n",
    "model.compile(optimizer='adam',\n",
    "              loss='binary_crossentropy',\n",
    "              metrics=['accuracy'])\n",
    "  \n",
    "\n",
    "history = model.fit(train_features,train_labels_encoded, batch_size =32 , callbacks= callbacks_list , class_weight = cw , epochs=100, validation_data= (test_features,test_labels_encoded))\n"
   ]
  },
  {
   "cell_type": "code",
   "execution_count": null,
   "metadata": {
    "execution": {
     "iopub.status.busy": "2021-11-19T09:08:20.103333Z",
     "iopub.status.idle": "2021-11-19T09:08:20.103917Z",
     "shell.execute_reply": "2021-11-19T09:08:20.103794Z",
     "shell.execute_reply.started": "2021-11-19T09:08:20.103780Z"
    },
    "id": "4i2i6rA0EUNh",
    "outputId": "740f063f-ed3d-46e7-b0cd-20966c0ed194"
   },
   "outputs": [],
   "source": [
    "pd.DataFrame(model.history.history).plot()"
   ]
  },
  {
   "cell_type": "code",
   "execution_count": null,
   "metadata": {
    "execution": {
     "iopub.status.busy": "2021-11-19T09:08:20.105116Z",
     "iopub.status.idle": "2021-11-19T09:08:20.105891Z",
     "shell.execute_reply": "2021-11-19T09:08:20.105746Z",
     "shell.execute_reply.started": "2021-11-19T09:08:20.105725Z"
    },
    "id": "xQE9wunLEUOH",
    "outputId": "40bbe374-7039-4e29-b311-68c3dc2b7d3c"
   },
   "outputs": [],
   "source": [
    "np.mean(train_features)"
   ]
  },
  {
   "cell_type": "code",
   "execution_count": null,
   "metadata": {
    "execution": {
     "iopub.status.busy": "2021-11-19T09:08:20.106726Z",
     "iopub.status.idle": "2021-11-19T09:08:20.106965Z",
     "shell.execute_reply": "2021-11-19T09:08:20.106851Z",
     "shell.execute_reply.started": "2021-11-19T09:08:20.106835Z"
    },
    "id": "N4nsZbt-EUOw",
    "outputId": "046461b4-1a0e-4fe7-dd2f-eb401cc4dfe4"
   },
   "outputs": [],
   "source": [
    "np.max(train_features)"
   ]
  },
  {
   "cell_type": "code",
   "execution_count": null,
   "metadata": {
    "execution": {
     "iopub.status.busy": "2021-11-19T09:08:20.108103Z",
     "iopub.status.idle": "2021-11-19T09:08:20.108363Z",
     "shell.execute_reply": "2021-11-19T09:08:20.108238Z",
     "shell.execute_reply.started": "2021-11-19T09:08:20.108222Z"
    },
    "id": "cRKQ6x2XEUPc"
   },
   "outputs": [],
   "source": [
    "from sklearn.metrics import roc_curve, roc_auc_score\n",
    "preds  = model.predict(test_features)\n",
    "# roc curve for models\n",
    "\n",
    "\n"
   ]
  },
  {
   "cell_type": "code",
   "execution_count": null,
   "metadata": {
    "execution": {
     "iopub.status.busy": "2021-11-19T09:08:20.109864Z",
     "iopub.status.idle": "2021-11-19T09:08:20.110296Z",
     "shell.execute_reply": "2021-11-19T09:08:20.110130Z",
     "shell.execute_reply.started": "2021-11-19T09:08:20.110106Z"
    },
    "id": "aChaALFYcvSN"
   },
   "outputs": [],
   "source": [
    "# import decimal\n",
    "# from sklearn.metrics import roc_curve, roc_auc_score\n",
    "# from sklearn import metrics\n",
    "# def float_range(start, stop , step):\n",
    "#   while start < stop:\n",
    "#     yield float(start)\n",
    "#     start += decimal.Decimal(step)\n",
    "\n",
    "\n",
    "\n",
    "\n",
    "\n",
    "# for x in list(float_range(0, 1, '0.01')):\n",
    "\n",
    "#   predictions = preds.copy()\n",
    "#   predictions[predictions <= x] = 0\n",
    "#   predictions[predictions > x] = 1\n",
    "#   print(roc_auc_score(test_labels_encoded, predictions),x) \n",
    "\n",
    "fpr1, tpr1, thresh1 = roc_curve(test_labels_encoded,preds)"
   ]
  },
  {
   "cell_type": "code",
   "execution_count": null,
   "metadata": {
    "execution": {
     "iopub.status.busy": "2021-11-19T09:08:20.111084Z",
     "iopub.status.idle": "2021-11-19T09:08:20.111795Z",
     "shell.execute_reply": "2021-11-19T09:08:20.111663Z",
     "shell.execute_reply.started": "2021-11-19T09:08:20.111644Z"
    },
    "id": "Z9aGY3UjuWCw"
   },
   "outputs": [],
   "source": [
    "predictions = preds.copy()\n",
    "predictions[predictions <= 0.13] = 0\n",
    "predictions[predictions > 0.13] = 1\n"
   ]
  },
  {
   "cell_type": "code",
   "execution_count": null,
   "metadata": {
    "execution": {
     "iopub.status.busy": "2021-11-19T09:08:20.112632Z",
     "iopub.status.idle": "2021-11-19T09:08:20.113172Z",
     "shell.execute_reply": "2021-11-19T09:08:20.112985Z",
     "shell.execute_reply.started": "2021-11-19T09:08:20.112964Z"
    },
    "id": "aL_Y8T3fEUQL",
    "outputId": "e2493eaf-52b7-4e42-9fe2-9694eab1bd5a"
   },
   "outputs": [],
   "source": [
    "from sklearn.metrics import classification_report,confusion_matrix\n",
    "print(classification_report(y_true=test_labels_encoded , y_pred=predictions,target_names =['Covid','Normal']))\n",
    "\n"
   ]
  },
  {
   "cell_type": "markdown",
   "metadata": {
    "id": "UsyUFVF65PMS"
   },
   "source": []
  },
  {
   "cell_type": "code",
   "execution_count": null,
   "metadata": {
    "execution": {
     "iopub.status.busy": "2021-11-19T09:08:20.114213Z",
     "iopub.status.idle": "2021-11-19T09:08:20.114503Z",
     "shell.execute_reply": "2021-11-19T09:08:20.114362Z",
     "shell.execute_reply.started": "2021-11-19T09:08:20.114343Z"
    },
    "id": "vOgiihX1EUQ6"
   },
   "outputs": [],
   "source": [
    "random_probs = [0 for i in range(len(test_labels_encoded))]\n",
    "p_fpr, p_tpr, _ = roc_curve(test_labels_encoded, random_probs, pos_label=1)"
   ]
  },
  {
   "cell_type": "code",
   "execution_count": null,
   "metadata": {
    "execution": {
     "iopub.status.busy": "2021-11-19T09:08:20.115414Z",
     "iopub.status.idle": "2021-11-19T09:08:20.115705Z",
     "shell.execute_reply": "2021-11-19T09:08:20.115567Z",
     "shell.execute_reply.started": "2021-11-19T09:08:20.115548Z"
    },
    "id": "-7iyA2ycEURl",
    "outputId": "6457fab6-aae1-4dd4-e09e-cf9629073b1c"
   },
   "outputs": [],
   "source": [
    "from sklearn.metrics import classification_report,confusion_matrix\n",
    "cm = pd.DataFrame(data=confusion_matrix(test_labels_encoded, predictions, labels=[0, 1]),index=[\"Actual Covid\", \"Actual Normal\"],\n",
    "columns=[\"Predicted Covid\", \"Predicted Normal\"])\n",
    "import seaborn as sns\n",
    "sns.heatmap(cm,annot=True,fmt=\"d\")"
   ]
  },
  {
   "cell_type": "code",
   "execution_count": null,
   "metadata": {
    "id": "FJK01h19EUSP"
   },
   "outputs": [],
   "source": []
  },
  {
   "cell_type": "code",
   "execution_count": null,
   "metadata": {
    "id": "HGcYY6OtEUS5"
   },
   "outputs": [],
   "source": []
  },
  {
   "cell_type": "code",
   "execution_count": null,
   "metadata": {
    "id": "rcuw_PinEUTq"
   },
   "outputs": [],
   "source": []
  },
  {
   "cell_type": "code",
   "execution_count": null,
   "metadata": {
    "execution": {
     "iopub.status.busy": "2021-11-19T09:08:20.116692Z",
     "iopub.status.idle": "2021-11-19T09:08:20.116989Z",
     "shell.execute_reply": "2021-11-19T09:08:20.116848Z",
     "shell.execute_reply.started": "2021-11-19T09:08:20.116830Z"
    },
    "id": "qgyxyIiREUUf",
    "outputId": "7a8b4c9c-d125-4d92-9f5c-39352d62bad1"
   },
   "outputs": [],
   "source": [
    "f, (ax1, ax2) = plt.subplots(1, 2, figsize=(12, 4))\n",
    "t = f.suptitle('Resnet50 transfer_learning Performance', fontsize=12)\n",
    "f.subplots_adjust(top=0.85, wspace=0.3)\n",
    "\n",
    "ax1.plot( history.history['accuracy'], label='Train Accuracy')\n",
    "ax1.plot( history.history['val_accuracy'], label='Validation Accuracy')\n",
    "\n",
    "ax1.set_ylabel('Accuracy Value')\n",
    "ax1.set_xlabel('Epoch')\n",
    "ax1.set_title('Accuracy')\n",
    "l1 = ax1.legend(loc=\"best\")\n",
    "\n",
    "ax2.plot( history.history['loss'], label='Train Loss')\n",
    "ax2.plot( history.history['val_loss'], label='Validation Loss')\n",
    "ax2.set_ylabel('Loss Value')\n",
    "ax2.set_xlabel('Epoch')\n",
    "ax2.set_title('Loss')\n",
    "l2 = ax2.legend(loc=\"best\")"
   ]
  },
  {
   "cell_type": "code",
   "execution_count": null,
   "metadata": {
    "execution": {
     "iopub.status.busy": "2021-11-19T09:08:20.118346Z",
     "iopub.status.idle": "2021-11-19T09:08:20.118798Z",
     "shell.execute_reply": "2021-11-19T09:08:20.118680Z",
     "shell.execute_reply.started": "2021-11-19T09:08:20.118662Z"
    },
    "id": "mzJjTXPxEUVQ",
    "outputId": "6f1be6d6-5ac5-431f-dc13-10c0cbd4f07c"
   },
   "outputs": [],
   "source": [
    " #plot roc curves\n",
    "plt.plot(fpr1, tpr1, marker='.',color='red',label = \"Resnet50 + ANN\")\n",
    "plt.plot(fpr2, tpr2, marker='.',color='BLACK',label = \"Resnet50 + RANDOM_FOREST\")\n",
    "plt.plot(fpr3, tpr3, marker='.',color='violet',label = \"Resnet50 + Logistic_regression\", linewidth =3)\n",
    "plt.plot(fpr4, tpr4, marker='.',color='green',label = \"Resnet50 + KNN \")\n",
    "plt.plot(p_fpr, p_tpr, linestyle='--', color='blue',label = \"No_skill\")\n",
    "\n",
    "# title\n",
    "plt.title('ROC curves ')\n",
    "# x label\n",
    "plt.xlabel('False Positive Rate')\n",
    "# y label\n",
    "plt.ylabel('True Positive rate')\n",
    "\n",
    "plt.legend(loc='best')\n",
    "plt.savefig('ROC',dpi=300)\n",
    "plt.show();\n"
   ]
  },
  {
   "cell_type": "code",
   "execution_count": null,
   "metadata": {
    "execution": {
     "iopub.status.busy": "2021-11-19T09:08:20.119558Z",
     "iopub.status.idle": "2021-11-19T09:08:20.119790Z",
     "shell.execute_reply": "2021-11-19T09:08:20.119678Z",
     "shell.execute_reply.started": "2021-11-19T09:08:20.119662Z"
    },
    "id": "PQKtyrY1EUWD",
    "outputId": "0aed97a9-bfd8-4634-ca86-9f02503c3ca9"
   },
   "outputs": [],
   "source": [
    "auc = roc_auc_score(test_labels_encoded, preds)\n",
    "print('AUC of \"RESNET50 + ANN_1\": %.3f' % auc)"
   ]
  },
  {
   "cell_type": "code",
   "execution_count": null,
   "metadata": {
    "id": "ZwVFx9JHEUWt"
   },
   "outputs": [],
   "source": []
  },
  {
   "cell_type": "code",
   "execution_count": null,
   "metadata": {
    "id": "VigGL8VCEUXi"
   },
   "outputs": [],
   "source": []
  },
  {
   "cell_type": "code",
   "execution_count": null,
   "metadata": {
    "id": "P0jfNHioEUYM"
   },
   "outputs": [],
   "source": []
  },
  {
   "cell_type": "code",
   "execution_count": null,
   "metadata": {
    "id": "M8RulV5HEUY_"
   },
   "outputs": [],
   "source": []
  },
  {
   "cell_type": "code",
   "execution_count": null,
   "metadata": {
    "id": "WCHAZrmnEUZs"
   },
   "outputs": [],
   "source": []
  },
  {
   "cell_type": "code",
   "execution_count": null,
   "metadata": {
    "id": "CdEsc7bIEUan"
   },
   "outputs": [],
   "source": []
  },
  {
   "cell_type": "code",
   "execution_count": null,
   "metadata": {
    "id": "HGt6IP9NEUbf"
   },
   "outputs": [],
   "source": []
  },
  {
   "cell_type": "code",
   "execution_count": null,
   "metadata": {
    "id": "CQ3rvlM2EUcM"
   },
   "outputs": [],
   "source": []
  },
  {
   "cell_type": "code",
   "execution_count": null,
   "metadata": {
    "id": "Qf6OvdBpEUds"
   },
   "outputs": [],
   "source": []
  },
  {
   "cell_type": "code",
   "execution_count": null,
   "metadata": {
    "id": "cKOToLd2EUfb"
   },
   "outputs": [],
   "source": []
  },
  {
   "cell_type": "code",
   "execution_count": null,
   "metadata": {
    "id": "iauUG66lEUhm"
   },
   "outputs": [],
   "source": []
  },
  {
   "cell_type": "code",
   "execution_count": null,
   "metadata": {
    "id": "ccLrzpNFEUj5"
   },
   "outputs": [],
   "source": []
  },
  {
   "cell_type": "code",
   "execution_count": null,
   "metadata": {
    "id": "1oH1X_yBEUnK"
   },
   "outputs": [],
   "source": []
  },
  {
   "cell_type": "code",
   "execution_count": null,
   "metadata": {
    "id": "bcYUimaDyUC8"
   },
   "outputs": [],
   "source": []
  },
  {
   "cell_type": "code",
   "execution_count": null,
   "metadata": {
    "execution": {
     "iopub.status.busy": "2021-11-19T09:08:20.120930Z",
     "iopub.status.idle": "2021-11-19T09:08:20.121213Z",
     "shell.execute_reply": "2021-11-19T09:08:20.121059Z",
     "shell.execute_reply.started": "2021-11-19T09:08:20.121038Z"
    },
    "id": "oj0jRNE3CFBz",
    "outputId": "5e6ae823-7fa6-4fa5-bbbc-fc7e50c8a185"
   },
   "outputs": [],
   "source": [
    "train_images/255"
   ]
  },
  {
   "cell_type": "code",
   "execution_count": null,
   "metadata": {
    "id": "z9gSh5uqbC2O"
   },
   "outputs": [],
   "source": []
  }
 ],
 "metadata": {
  "kernelspec": {
   "display_name": "Python 3 (ipykernel)",
   "language": "python",
   "name": "python3"
  },
  "language_info": {
   "codemirror_mode": {
    "name": "ipython",
    "version": 3
   },
   "file_extension": ".py",
   "mimetype": "text/x-python",
   "name": "python",
   "nbconvert_exporter": "python",
   "pygments_lexer": "ipython3",
   "version": "3.9.7"
  }
 },
 "nbformat": 4,
 "nbformat_minor": 4
}
