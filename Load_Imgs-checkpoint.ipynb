{
 "cells": [
  {
   "cell_type": "code",
   "execution_count": 1,
   "metadata": {
    "id": "u9Jyk5RCusLb"
   },
   "outputs": [],
   "source": [
    "import numpy as np\n",
    "import glob\n",
    "import matplotlib.pyplot as plt\n",
    "import skimage.transform"
   ]
  },
  {
   "cell_type": "code",
   "execution_count": 2,
   "metadata": {
    "id": "gWM2JLcXusLe"
   },
   "outputs": [],
   "source": [
    "def get_filelist(img_loc):\n",
    "    filelist = glob.glob(img_loc+'*.jpg')\n",
    "    filelist.sort()\n",
    "    return filelist"
   ]
  },
  {
   "cell_type": "code",
   "execution_count": 3,
   "metadata": {
    "id": "2UPsi13BusLf"
   },
   "outputs": [],
   "source": [
    "img_loc = 'ISIC2018_Task3_Training_Input/'\n",
    "\n",
    "filelist = get_filelist(img_loc)"
   ]
  },
  {
   "cell_type": "code",
   "execution_count": null,
   "metadata": {
    "id": "RKzZ-XRCusLf",
    "outputId": "88f463da-0175-486e-972e-6df4e2d37433"
   },
   "outputs": [
    {
     "name": "stdout",
     "output_type": "stream",
     "text": [
      "1 files loaded\n",
      "101 files loaded\n",
      "201 files loaded\n",
      "301 files loaded\n",
      "401 files loaded\n",
      "501 files loaded\n",
      "601 files loaded\n",
      "701 files loaded\n",
      "801 files loaded\n",
      "901 files loaded\n",
      "1001 files loaded\n",
      "1101 files loaded\n",
      "1201 files loaded\n",
      "1301 files loaded\n",
      "1401 files loaded\n",
      "1501 files loaded\n",
      "1601 files loaded\n",
      "1701 files loaded\n",
      "1801 files loaded\n",
      "1901 files loaded\n",
      "2001 files loaded\n",
      "2101 files loaded\n",
      "2201 files loaded\n",
      "2301 files loaded\n",
      "2401 files loaded\n",
      "2501 files loaded\n",
      "2601 files loaded\n"
     ]
    }
   ],
   "source": [
    "# Load images as arrays\n",
    "\n",
    "bs = len(filelist)\n",
    "input_shape = [bs, 224, 224, 3]\n",
    "\n",
    "def get_img_arrs(filelist, input_shape):\n",
    "    X_orig = np.empty(input_shape)\n",
    "    bs, n_H, n_W, n_C = input_shape\n",
    "    for i, fname in enumerate(filelist[:bs]):\n",
    "        img = plt.imread(fname)\n",
    "        img = skimage.transform.resize(img, (n_H,n_W), mode='constant')\n",
    "        X_orig[i] = img\n",
    "        if i%100 == 0 or i == bs-1:\n",
    "            print('{} files loaded'.format(i+1))\n",
    "    return X_orig\n",
    "\n",
    "\n",
    "X_orig = get_img_arrs(filelist, input_shape)"
   ]
  },
  {
   "cell_type": "code",
   "execution_count": null,
   "metadata": {
    "id": "Pygvwlv7usLg"
   },
   "outputs": [],
   "source": [
    "X_orig_file = 'X_orig.npy'\n",
    "np.save(X_orig_file, X_orig)"
   ]
  },
  {
   "cell_type": "code",
   "execution_count": null,
   "metadata": {
    "id": "XKNo14zDusLg"
   },
   "outputs": [],
   "source": []
  }
 ],
 "metadata": {
  "colab": {
   "name": "Load_Imgs.ipynb",
   "provenance": []
  },
  "kernelspec": {
   "display_name": "Python 3 (ipykernel)",
   "language": "python",
   "name": "python3"
  },
  "language_info": {
   "codemirror_mode": {
    "name": "ipython",
    "version": 3
   },
   "file_extension": ".py",
   "mimetype": "text/x-python",
   "name": "python",
   "nbconvert_exporter": "python",
   "pygments_lexer": "ipython3",
   "version": "3.9.7"
  }
 },
 "nbformat": 4,
 "nbformat_minor": 1
}
